{
 "cells": [
  {
   "cell_type": "code",
   "execution_count": null,
   "id": "8469a2d8-025a-4aec-9468-9bc5896e0f7f",
   "metadata": {},
   "outputs": [],
   "source": [
    "import os\n",
    "import sys\n",
    "module_path = os.path.abspath(os.path.join('..'))\n",
    "if module_path not in sys.path:\n",
    "    sys.path.append(module_path)\n",
    "    \n",
    "%reload_ext autoreload\n",
    "%autoreload 2\n",
    "%matplotlib inline"
   ]
  },
  {
   "cell_type": "markdown",
   "id": "19275469-9d07-45d0-8f5a-5d0cc97642c6",
   "metadata": {},
   "source": [
    "Imports"
   ]
  },
  {
   "cell_type": "code",
   "execution_count": null,
   "id": "9c07b76f-1e59-4195-8ec2-c3ca850b9855",
   "metadata": {},
   "outputs": [],
   "source": [
    "import matplotlib.pyplot as plt\n",
    "import matplotlib.ticker as ticker\n",
    "import numpy as np\n",
    "import pandas as pd\n",
    "import seaborn as sns"
   ]
  },
  {
   "cell_type": "markdown",
   "id": "8b2c123c-a2fa-44e9-83f6-b6702774f75e",
   "metadata": {},
   "source": [
    "# Load data"
   ]
  },
  {
   "cell_type": "code",
   "execution_count": null,
   "id": "d8796f82-118a-4ce9-bc0f-d6dbb35408c3",
   "metadata": {},
   "outputs": [],
   "source": [
    "data_dir = \"../data/raw/\"\n",
    "group1_name = \"is20016_zwf1egf\"\n",
    "group2_name = \"is20016_by4741\""
   ]
  },
  {
   "cell_type": "code",
   "execution_count": null,
   "id": "dd594c22-5e46-4dfa-999d-b6b0a8103158",
   "metadata": {},
   "outputs": [],
   "source": [
    "filepath1 = data_dir + group1_name\n",
    "timeseries1_filepath = filepath1 + \"_timeseries.csv\"\n",
    "labels1_filepath = filepath1 + \"_labels.csv\"\n",
    "\n",
    "timeseries1_df = pd.read_csv(timeseries1_filepath, index_col=[0,1,2])\n",
    "\n",
    "filepath2 = data_dir + group2_name\n",
    "timeseries2_filepath = filepath2 + \"_timeseries.csv\"\n",
    "\n",
    "timeseries2_df = pd.read_csv(timeseries2_filepath, index_col=[0,1,2])"
   ]
  },
  {
   "cell_type": "markdown",
   "id": "288dbc7b-91c0-451e-b1f6-98ce2a3e9c5c",
   "metadata": {},
   "source": [
    "Join dataframes"
   ]
  },
  {
   "cell_type": "code",
   "execution_count": null,
   "id": "5d80fad1-fa09-4435-a441-3efd6068f5c9",
   "metadata": {},
   "outputs": [],
   "source": [
    "timeseries_df = pd.concat([timeseries1_df, timeseries2_df])"
   ]
  },
  {
   "cell_type": "code",
   "execution_count": null,
   "id": "b9565b53-5d73-41b9-b40f-3af92f91b969",
   "metadata": {
    "scrolled": true
   },
   "outputs": [],
   "source": [
    "timeseries_df"
   ]
  },
  {
   "cell_type": "code",
   "execution_count": null,
   "id": "7f6aaa2d-ca40-4714-b81e-6521164d52ee",
   "metadata": {},
   "outputs": [],
   "source": [
    "timeseries_dropna = timeseries_df.dropna()"
   ]
  },
  {
   "cell_type": "markdown",
   "id": "01f788e2-02c1-4fc9-b4ef-1c4e79116573",
   "metadata": {},
   "source": [
    "# Draw some time series"
   ]
  },
  {
   "cell_type": "code",
   "execution_count": null,
   "id": "93d00bd3-94e6-4ca2-ad3f-5822479be9ef",
   "metadata": {},
   "outputs": [],
   "source": [
    "nrows = 3\n",
    "fig, ax = plt.subplots(\n",
    "    nrows=nrows,\n",
    "    sharex=True,\n",
    "    figsize=(6,6),\n",
    ")\n",
    "\n",
    "ax[0].plot(timeseries_dropna.iloc[425])\n",
    "ax[0].set_title(f'Sample BY4741 time series (1)')\n",
    "\n",
    "ax[1].plot(timeseries_dropna.iloc[0])\n",
    "ax[1].set_title(f'Sample zwf1Δ time series (1)')\n",
    "\n",
    "ax[2].plot(timeseries_dropna.iloc[14])\n",
    "ax[2].set_title(f'Sample zwf1Δ time series (2)')\n",
    "\n",
    "for row_idx in range(nrows):\n",
    "    ax[row_idx].xaxis.set_major_locator(ticker.MultipleLocator(20))\n",
    "\n",
    "fig.add_subplot(111, frameon=False)\n",
    "plt.tick_params(labelcolor=\"none\", top=False, bottom=False, left=False, right=False)\n",
    "plt.grid(False)\n",
    "plt.xlabel(\"Time (min)\")\n",
    "plt.ylabel(\"Flavin fluorescence, normalised (AU)\")"
   ]
  }
 ],
 "metadata": {
  "kernelspec": {
   "display_name": "tschar",
   "language": "python",
   "name": "tschar"
  },
  "language_info": {
   "codemirror_mode": {
    "name": "ipython",
    "version": 3
   },
   "file_extension": ".py",
   "mimetype": "text/x-python",
   "name": "python",
   "nbconvert_exporter": "python",
   "pygments_lexer": "ipython3",
   "version": "3.8.14"
  }
 },
 "nbformat": 4,
 "nbformat_minor": 5
}
