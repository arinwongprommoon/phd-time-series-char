{
 "cells": [
  {
   "cell_type": "code",
   "execution_count": null,
   "id": "6d1a0518-65ab-4025-acf5-49815552ff64",
   "metadata": {},
   "outputs": [],
   "source": [
    "import os\n",
    "import sys\n",
    "module_path = os.path.abspath(os.path.join('..'))\n",
    "if module_path not in sys.path:\n",
    "    sys.path.append(module_path)\n",
    "%reload_ext autoreload\n",
    "%autoreload 2\n",
    "%matplotlib inline"
   ]
  },
  {
   "cell_type": "markdown",
   "id": "5b1a48ef-e44c-4038-95d3-544a0057a1e3",
   "metadata": {},
   "source": [
    "Imports"
   ]
  },
  {
   "cell_type": "code",
   "execution_count": null,
   "id": "024b8bbb-f985-4bbc-b720-2909991c5240",
   "metadata": {},
   "outputs": [],
   "source": [
    "import matplotlib.pyplot as plt\n",
    "import matplotlib.ticker as ticker\n",
    "import numpy as np\n",
    "import pandas as pd\n",
    "import seaborn as sns\n",
    "\n",
    "from postprocessor.core.multisignal.crosscorr import crosscorr, crosscorrParameters\n",
    "from postprocessor.core.processes.findpeaks import findpeaks, findpeaksParameters\n",
    "from scipy.stats import sem"
   ]
  },
  {
   "cell_type": "markdown",
   "id": "286afad9-ac96-4c07-b96f-b508e807526c",
   "metadata": {},
   "source": [
    "# Load data"
   ]
  },
  {
   "cell_type": "code",
   "execution_count": null,
   "id": "9e1b5b47-d21e-4840-8317-e8c4b7b64dc7",
   "metadata": {},
   "outputs": [],
   "source": [
    "data_dir = \"../data/raw/\"\n",
    "group_name = \"is20016_zwf1egf\""
   ]
  },
  {
   "cell_type": "code",
   "execution_count": null,
   "id": "0f0660fb-bc93-41bf-9cb5-9f8894ede537",
   "metadata": {},
   "outputs": [],
   "source": [
    "filepath = data_dir + group_name\n",
    "timeseries_filepath = filepath + \"_flavin_timeseries.csv\"\n",
    "labels_filepath = filepath + \"_labels.csv\"\n",
    "\n",
    "timeseries_df = pd.read_csv(timeseries_filepath, index_col=[0,1,2])\n",
    "labels_df = pd.read_csv(labels_filepath, index_col=[0,1,2])"
   ]
  },
  {
   "cell_type": "markdown",
   "id": "aa67c308-5691-4e44-a912-fbf2c7c9536b",
   "metadata": {},
   "source": [
    "# Select data"
   ]
  },
  {
   "cell_type": "markdown",
   "id": "8e592e86-0d9b-46b4-bc29-8496a1cbfb0f",
   "metadata": {},
   "source": [
    "Drop NaNs"
   ]
  },
  {
   "cell_type": "code",
   "execution_count": null,
   "id": "973039d3-f3d8-4227-9446-6b53662ac56b",
   "metadata": {},
   "outputs": [],
   "source": [
    "timeseries_dropna = timeseries_df.dropna()"
   ]
  },
  {
   "cell_type": "code",
   "execution_count": null,
   "id": "8e25423c-6e5b-459e-94b9-95300144da33",
   "metadata": {},
   "outputs": [],
   "source": [
    "labels_dropna = labels_df.loc[timeseries_dropna.index]"
   ]
  },
  {
   "cell_type": "markdown",
   "id": "894bb665-e7ac-4d17-ad82-c7080210e3b9",
   "metadata": {},
   "source": [
    "Select oscillatory time series"
   ]
  },
  {
   "cell_type": "code",
   "execution_count": null,
   "id": "d87fc684-a17d-415e-9d64-a7413f11daa2",
   "metadata": {},
   "outputs": [],
   "source": [
    "timeseries_osc = timeseries_dropna.loc[labels_dropna[labels_dropna.score == 1].index]"
   ]
  },
  {
   "cell_type": "code",
   "execution_count": null,
   "id": "f214b99d-c510-4b82-8a8b-ad3564053c7d",
   "metadata": {},
   "outputs": [],
   "source": [
    "timeseries_osc"
   ]
  },
  {
   "cell_type": "markdown",
   "id": "db4159af-8822-4c32-b838-f4ce42d01153",
   "metadata": {},
   "source": [
    "# Estimate period"
   ]
  },
  {
   "cell_type": "markdown",
   "id": "67b39476-a68e-4a19-8565-901671e09be7",
   "metadata": {},
   "source": [
    "## Use ACF"
   ]
  },
  {
   "cell_type": "markdown",
   "id": "8dd7c8fc-2327-4eda-90a1-95b97900dcb9",
   "metadata": {},
   "source": [
    "Define convenience function"
   ]
  },
  {
   "cell_type": "code",
   "execution_count": null,
   "id": "a1f4d8a4-6e7e-4543-a349-3405e1458b63",
   "metadata": {},
   "outputs": [],
   "source": [
    "def get_first_interval(x):\n",
    "    \"\"\"get interval lengths then get just the first one\"\"\"\n",
    "    list_intervals = np.diff(np.where(np.array(x) > 0))[0]\n",
    "    # Checks that it is not empty\n",
    "    if list_intervals.any():\n",
    "        return list_intervals[0]\n",
    "    else:\n",
    "        return np.nan"
   ]
  },
  {
   "cell_type": "markdown",
   "id": "755f0d05-342a-4bf0-bb44-0d7b6fcde410",
   "metadata": {},
   "source": [
    "Define parameters for findpeaks"
   ]
  },
  {
   "cell_type": "code",
   "execution_count": null,
   "id": "2777db54-7f42-4d97-813e-5cec18e8221a",
   "metadata": {},
   "outputs": [],
   "source": [
    "prominence = 0.20\n",
    "width = 4"
   ]
  },
  {
   "cell_type": "markdown",
   "id": "d1316f65-50f6-472b-827e-22cd48370362",
   "metadata": {},
   "source": [
    "Estimate periods"
   ]
  },
  {
   "cell_type": "code",
   "execution_count": null,
   "id": "e48700b1-5c77-43c3-a509-f5ccc9c6fdf6",
   "metadata": {},
   "outputs": [],
   "source": [
    "acfs = crosscorr.as_function(timeseries_osc, normalised=True, only_pos=True)\n",
    "acfs_peaks = findpeaks.as_function(\n",
    "    acfs, prominence=prominence, width=width\n",
    ")\n",
    "periods = acfs_peaks.apply(lambda x: get_first_interval(x), axis=1)\n",
    "periods_min = 5 * periods.to_numpy()"
   ]
  },
  {
   "cell_type": "markdown",
   "id": "26062d25-5a34-420a-9da0-5f5e517f4cf9",
   "metadata": {},
   "source": [
    "# Statistics"
   ]
  },
  {
   "cell_type": "code",
   "execution_count": null,
   "id": "c021f2f3-0437-44f2-9b5e-c9d75fbee1d5",
   "metadata": {},
   "outputs": [],
   "source": [
    "num = timeseries_dropna.shape[0]\n",
    "num_osc = len(periods_min)\n",
    "\n",
    "mean = np.mean(periods_min)\n",
    "std_err_mean = sem(periods_min)\n",
    "\n",
    "median = np.median(periods_min)\n",
    "q25, q75 = np.percentile(periods_min, [25,75])\n",
    "\n",
    "print(f\"n = {num}; n(osc) = {num_osc} ({100*num_osc/num:.2f}%).\")\n",
    "print(f\"mean = {mean:.2f}; SEM = {std_err_mean:.2f}.\")\n",
    "print(f\"median = {median:.2f}; IQR = {q25:.2f}--{q75:.2f} (diff = {q75-q25:.2f}).\")"
   ]
  }
 ],
 "metadata": {
  "kernelspec": {
   "display_name": "tschar",
   "language": "python",
   "name": "tschar"
  },
  "language_info": {
   "codemirror_mode": {
    "name": "ipython",
    "version": 3
   },
   "file_extension": ".py",
   "mimetype": "text/x-python",
   "name": "python",
   "nbconvert_exporter": "python",
   "pygments_lexer": "ipython3",
   "version": "3.8.14"
  }
 },
 "nbformat": 4,
 "nbformat_minor": 5
}
