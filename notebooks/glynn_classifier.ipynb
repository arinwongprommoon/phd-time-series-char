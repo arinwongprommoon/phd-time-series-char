{
 "cells": [
  {
   "cell_type": "code",
   "execution_count": null,
   "id": "8469a2d8-025a-4aec-9468-9bc5896e0f7f",
   "metadata": {},
   "outputs": [],
   "source": [
    "import os\n",
    "import sys\n",
    "module_path = os.path.abspath(os.path.join('..'))\n",
    "if module_path not in sys.path:\n",
    "    sys.path.append(module_path)\n",
    "    \n",
    "%reload_ext autoreload\n",
    "%autoreload 2\n",
    "%matplotlib inline"
   ]
  },
  {
   "cell_type": "markdown",
   "id": "19275469-9d07-45d0-8f5a-5d0cc97642c6",
   "metadata": {},
   "source": [
    "Imports"
   ]
  },
  {
   "cell_type": "code",
   "execution_count": null,
   "id": "9c07b76f-1e59-4195-8ec2-c3ca850b9855",
   "metadata": {},
   "outputs": [],
   "source": [
    "import matplotlib.pyplot as plt\n",
    "import matplotlib.ticker as ticker\n",
    "import numpy as np\n",
    "import pandas as pd\n",
    "import seaborn as sns"
   ]
  },
  {
   "cell_type": "markdown",
   "id": "8b2c123c-a2fa-44e9-83f6-b6702774f75e",
   "metadata": {},
   "source": [
    "# Load data"
   ]
  },
  {
   "cell_type": "code",
   "execution_count": null,
   "id": "d8796f82-118a-4ce9-bc0f-d6dbb35408c3",
   "metadata": {},
   "outputs": [],
   "source": [
    "data_dir = \"../data/raw/\"\n",
    "group1_name = \"st01253_by4742swain\""
   ]
  },
  {
   "cell_type": "code",
   "execution_count": null,
   "id": "dd594c22-5e46-4dfa-999d-b6b0a8103158",
   "metadata": {},
   "outputs": [],
   "source": [
    "filepath1 = data_dir + group1_name\n",
    "timeseries1_filepath = filepath1 + \"_timeseries.csv\"\n",
    "labels1_filepath = filepath1 + \"_labels.csv\"\n",
    "\n",
    "timeseries_df = pd.read_csv(timeseries1_filepath, index_col=[0,1,2])\n",
    "labels_df = pd.read_csv(labels1_filepath, index_col=[0,1,2])"
   ]
  },
  {
   "cell_type": "code",
   "execution_count": null,
   "id": "0c37aad5-5ff0-4a57-9a87-bba2d6cf2736",
   "metadata": {},
   "outputs": [],
   "source": [
    "timeseries_df"
   ]
  },
  {
   "cell_type": "markdown",
   "id": "bf85f314-8a2b-4d55-a7ef-81042a310e33",
   "metadata": {},
   "source": [
    "# Compute periodogram"
   ]
  },
  {
   "cell_type": "code",
   "execution_count": null,
   "id": "7f59d693-832b-4fe4-837d-e41b2893f4f8",
   "metadata": {},
   "outputs": [],
   "source": [
    "from postprocessor.core.processes.fft import fft"
   ]
  },
  {
   "cell_type": "code",
   "execution_count": null,
   "id": "3e2c45f6-8f4a-4424-9233-9784bb269c06",
   "metadata": {},
   "outputs": [],
   "source": [
    "freqs, power = fft.as_function(timeseries_df)\n",
    "freqs_dropna = freqs.dropna()\n",
    "power_dropna = power.dropna()"
   ]
  },
  {
   "cell_type": "code",
   "execution_count": null,
   "id": "94199300-d072-499a-85f4-83a0afa612b0",
   "metadata": {},
   "outputs": [],
   "source": [
    "power_dropna"
   ]
  },
  {
   "cell_type": "markdown",
   "id": "546cc597-50cf-4701-a155-211cbfd69894",
   "metadata": {},
   "source": [
    "# Score/rank"
   ]
  },
  {
   "cell_type": "code",
   "execution_count": null,
   "id": "fa360b23-cffe-498d-b691-4ce444c00c96",
   "metadata": {},
   "outputs": [],
   "source": [
    "# Scores for each time series is simply the max height of power\n",
    "scores = power_dropna.max(axis=1)\n",
    "scores_sorted = scores.sort_values(ascending=False)"
   ]
  },
  {
   "cell_type": "code",
   "execution_count": null,
   "id": "350ed758-1141-4052-a86f-4b65fdcb3495",
   "metadata": {},
   "outputs": [],
   "source": [
    "max(scores_sorted)"
   ]
  },
  {
   "cell_type": "markdown",
   "id": "1b619fd9-5d5b-4d99-9b9e-c1bd39ee2da7",
   "metadata": {},
   "source": [
    "Plot one time series"
   ]
  },
  {
   "cell_type": "code",
   "execution_count": null,
   "id": "94908f24-4bbd-4f2d-aea3-df0e6f5107c1",
   "metadata": {},
   "outputs": [],
   "source": [
    "idx = 0\n",
    "timeseries = timeseries_df.loc[scores_sorted.index[idx]]\n",
    "\n",
    "fig, ax = plt.subplots(figsize=(10,3))\n",
    "ax.plot(timeseries)\n",
    "ax.xaxis.set_major_locator(ticker.MultipleLocator(20))"
   ]
  },
  {
   "cell_type": "markdown",
   "id": "e26f89b6-bf3f-4755-bbf5-b8274a70b524",
   "metadata": {},
   "source": [
    "Plot best 5, with periodograms\n",
    "\n",
    "TODO: Separate time series and periodograms into separate plots -- easier to add labels that way, and I can then stitch them together in Inkspace or present them as side-by-side figures in LaTeX."
   ]
  },
  {
   "cell_type": "code",
   "execution_count": null,
   "id": "130ce70f-43a6-4238-9d87-94dccdea9f36",
   "metadata": {},
   "outputs": [],
   "source": [
    "nrows = 5\n",
    "fig, ax = plt.subplots(\n",
    "    nrows=nrows,\n",
    "    ncols=2,\n",
    "    figsize=(15,10),\n",
    "    gridspec_kw={'width_ratios': [2, 1]}\n",
    ")\n",
    "\n",
    "for row_idx in range(nrows):\n",
    "    score_idx = row_idx\n",
    "    timeseries = timeseries_df.loc[scores_sorted.index[score_idx]]\n",
    "    freqs_axis = freqs_dropna.loc[scores_sorted.index[score_idx]]\n",
    "    power_axis = power_dropna.loc[scores_sorted.index[score_idx]]\n",
    "    \n",
    "    ax[row_idx, 0].plot(timeseries)\n",
    "    ax[row_idx, 0].xaxis.set_major_locator(ticker.MultipleLocator(20))\n",
    "    #ax[row_idx, 0].set_ylim((-4, 4))\n",
    "    \n",
    "    ax[row_idx, 1].plot(freqs_axis, power_axis)\n",
    "    ax[row_idx, 1].set_ylim((0,50))"
   ]
  },
  {
   "cell_type": "markdown",
   "id": "8dee45f1-62b2-485b-ae3d-58e19f90dfc8",
   "metadata": {},
   "source": [
    "Plot worst 5, with periodograms"
   ]
  },
  {
   "cell_type": "code",
   "execution_count": null,
   "id": "77dc1bc5-e284-4cb8-8a7f-4d600846ee08",
   "metadata": {},
   "outputs": [],
   "source": [
    "nrows = 5\n",
    "fig, ax = plt.subplots(\n",
    "    nrows=nrows,\n",
    "    ncols=2,\n",
    "    figsize=(15,10),\n",
    "    gridspec_kw={'width_ratios': [2, 1]}\n",
    ")\n",
    "\n",
    "for row_idx in range(nrows):\n",
    "    score_idx = len(scores_sorted) - 1 - row_idx\n",
    "    timeseries = timeseries_df.loc[scores_sorted.index[score_idx]]\n",
    "    freqs_axis = freqs_dropna.loc[scores_sorted.index[score_idx]]\n",
    "    power_axis = power_dropna.loc[scores_sorted.index[score_idx]]\n",
    "    \n",
    "    ax[row_idx, 0].plot(timeseries)\n",
    "    ax[row_idx, 0].xaxis.set_major_locator(ticker.MultipleLocator(20))\n",
    "    #ax[row_idx, 0].set_ylim((-4, 4))\n",
    "    \n",
    "    ax[row_idx, 1].plot(freqs_axis, power_axis)\n",
    "    ax[row_idx, 1].set_ylim((0,50))"
   ]
  }
 ],
 "metadata": {
  "kernelspec": {
   "display_name": "tschar",
   "language": "python",
   "name": "tschar"
  },
  "language_info": {
   "codemirror_mode": {
    "name": "ipython",
    "version": 3
   },
   "file_extension": ".py",
   "mimetype": "text/x-python",
   "name": "python",
   "nbconvert_exporter": "python",
   "pygments_lexer": "ipython3",
   "version": "3.8.14"
  }
 },
 "nbformat": 4,
 "nbformat_minor": 5
}
