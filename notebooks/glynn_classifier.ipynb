{
 "cells": [
  {
   "cell_type": "code",
   "execution_count": null,
   "id": "8469a2d8-025a-4aec-9468-9bc5896e0f7f",
   "metadata": {},
   "outputs": [],
   "source": [
    "import os\n",
    "import sys\n",
    "module_path = os.path.abspath(os.path.join('..'))\n",
    "if module_path not in sys.path:\n",
    "    sys.path.append(module_path)\n",
    "    \n",
    "%reload_ext autoreload\n",
    "%autoreload 2\n",
    "%matplotlib inline"
   ]
  },
  {
   "cell_type": "markdown",
   "id": "19275469-9d07-45d0-8f5a-5d0cc97642c6",
   "metadata": {},
   "source": [
    "Imports"
   ]
  },
  {
   "cell_type": "code",
   "execution_count": null,
   "id": "9c07b76f-1e59-4195-8ec2-c3ca850b9855",
   "metadata": {},
   "outputs": [],
   "source": [
    "import matplotlib.pyplot as plt\n",
    "import matplotlib.ticker as ticker\n",
    "import numpy as np\n",
    "import pandas as pd\n",
    "import seaborn as sns"
   ]
  },
  {
   "cell_type": "markdown",
   "id": "8b2c123c-a2fa-44e9-83f6-b6702774f75e",
   "metadata": {},
   "source": [
    "# Load data"
   ]
  },
  {
   "cell_type": "code",
   "execution_count": null,
   "id": "d8796f82-118a-4ce9-bc0f-d6dbb35408c3",
   "metadata": {},
   "outputs": [],
   "source": [
    "data_dir = \"../data/raw/\"\n",
    "group1_name = \"st01253_by4742swain\""
   ]
  },
  {
   "cell_type": "code",
   "execution_count": null,
   "id": "dd594c22-5e46-4dfa-999d-b6b0a8103158",
   "metadata": {},
   "outputs": [],
   "source": [
    "filepath1 = data_dir + group1_name\n",
    "timeseries1_filepath = filepath1 + \"_timeseries.csv\"\n",
    "labels1_filepath = filepath1 + \"_labels.csv\"\n",
    "\n",
    "timeseries_df = pd.read_csv(timeseries1_filepath, index_col=[0,1,2])\n",
    "labels_df = pd.read_csv(labels1_filepath, index_col=[0,1,2])"
   ]
  },
  {
   "cell_type": "code",
   "execution_count": null,
   "id": "0c37aad5-5ff0-4a57-9a87-bba2d6cf2736",
   "metadata": {},
   "outputs": [],
   "source": [
    "timeseries_df"
   ]
  },
  {
   "cell_type": "code",
   "execution_count": null,
   "id": "bbe8ea58-ba51-46ce-b270-6573d2d491b5",
   "metadata": {},
   "outputs": [],
   "source": [
    "timeseries_dropna = timeseries_df.dropna()"
   ]
  },
  {
   "cell_type": "code",
   "execution_count": null,
   "id": "602fda1c-4d66-47bf-951b-8c427c9e7d45",
   "metadata": {},
   "outputs": [],
   "source": [
    "labels_df = labels_df == 1"
   ]
  },
  {
   "cell_type": "markdown",
   "id": "bf85f314-8a2b-4d55-a7ef-81042a310e33",
   "metadata": {},
   "source": [
    "# Compute periodogram"
   ]
  },
  {
   "cell_type": "code",
   "execution_count": null,
   "id": "7f59d693-832b-4fe4-837d-e41b2893f4f8",
   "metadata": {},
   "outputs": [],
   "source": [
    "from postprocessor.core.processes.fft import fft"
   ]
  },
  {
   "cell_type": "code",
   "execution_count": null,
   "id": "3e2c45f6-8f4a-4424-9233-9784bb269c06",
   "metadata": {},
   "outputs": [],
   "source": [
    "freqs, power = fft.as_function(timeseries_df)\n",
    "freqs_dropna = freqs.dropna()\n",
    "power_dropna = power.dropna()"
   ]
  },
  {
   "cell_type": "code",
   "execution_count": null,
   "id": "94199300-d072-499a-85f4-83a0afa612b0",
   "metadata": {},
   "outputs": [],
   "source": [
    "power_dropna"
   ]
  },
  {
   "cell_type": "markdown",
   "id": "546cc597-50cf-4701-a155-211cbfd69894",
   "metadata": {},
   "source": [
    "# Score/rank"
   ]
  },
  {
   "cell_type": "code",
   "execution_count": null,
   "id": "fa360b23-cffe-498d-b691-4ce444c00c96",
   "metadata": {},
   "outputs": [],
   "source": [
    "# Scores for each time series is simply the max height of power\n",
    "scores = power_dropna.max(axis=1)\n",
    "scores_sorted = scores.sort_values(ascending=False)"
   ]
  },
  {
   "cell_type": "code",
   "execution_count": null,
   "id": "350ed758-1141-4052-a86f-4b65fdcb3495",
   "metadata": {},
   "outputs": [],
   "source": [
    "max(scores_sorted)"
   ]
  },
  {
   "cell_type": "markdown",
   "id": "1b619fd9-5d5b-4d99-9b9e-c1bd39ee2da7",
   "metadata": {},
   "source": [
    "# Plot one time series"
   ]
  },
  {
   "cell_type": "code",
   "execution_count": null,
   "id": "94908f24-4bbd-4f2d-aea3-df0e6f5107c1",
   "metadata": {},
   "outputs": [],
   "source": [
    "idx = 0\n",
    "timeseries = timeseries_df.loc[scores_sorted.index[idx]]\n",
    "\n",
    "fig, ax = plt.subplots(figsize=(10,3))\n",
    "ax.plot(timeseries)\n",
    "ax.xaxis.set_major_locator(ticker.MultipleLocator(20))"
   ]
  },
  {
   "cell_type": "markdown",
   "id": "4a6e11f3-e667-4901-8488-2b7fa0b266cd",
   "metadata": {},
   "source": [
    "# Plot best 5/worst 5"
   ]
  },
  {
   "cell_type": "markdown",
   "id": "3d305c54-d022-4121-a149-d1dd9ca1030d",
   "metadata": {},
   "source": [
    "## Best 5"
   ]
  },
  {
   "cell_type": "markdown",
   "id": "e26f89b6-bf3f-4755-bbf5-b8274a70b524",
   "metadata": {},
   "source": [
    "Time series"
   ]
  },
  {
   "cell_type": "code",
   "execution_count": null,
   "id": "130ce70f-43a6-4238-9d87-94dccdea9f36",
   "metadata": {},
   "outputs": [],
   "source": [
    "nrows = 5\n",
    "fig, ax = plt.subplots(\n",
    "    nrows=nrows,\n",
    "    figsize=(10,10),\n",
    "    sharex=True\n",
    ")\n",
    "\n",
    "for row_idx in range(nrows):\n",
    "    score_idx = row_idx\n",
    "    timeseries = timeseries_df.loc[scores_sorted.index[score_idx]]\n",
    "    \n",
    "    ax[row_idx].plot(timeseries)\n",
    "    ax[row_idx].xaxis.set_major_locator(ticker.MultipleLocator(20))\n",
    "    ax[row_idx].set_title(f'Rank {score_idx+1}')\n",
    "\n",
    "fig.add_subplot(111, frameon=False)\n",
    "plt.tick_params(labelcolor=\"none\", top=False, bottom=False, left=False, right=False)\n",
    "plt.grid(False)\n",
    "plt.xlabel(\"Time (min)\")\n",
    "plt.ylabel(\"Flavin fluorescence, normalised (AU)\")"
   ]
  },
  {
   "cell_type": "markdown",
   "id": "eab43352-176e-4aae-8ab8-d8fb57c191db",
   "metadata": {},
   "source": [
    "Periodograms"
   ]
  },
  {
   "cell_type": "code",
   "execution_count": null,
   "id": "0ee1d1f2-30ba-419a-8084-d474276f4945",
   "metadata": {},
   "outputs": [],
   "source": [
    "nrows = 5\n",
    "fig, ax = plt.subplots(\n",
    "    nrows=nrows,\n",
    "    figsize=(5,10),\n",
    "    sharex=True,\n",
    ")\n",
    "\n",
    "for row_idx in range(nrows):\n",
    "    score_idx = row_idx\n",
    "    freqs_axis = freqs_dropna.loc[scores_sorted.index[score_idx]]\n",
    "    power_axis = power_dropna.loc[scores_sorted.index[score_idx]]\n",
    "     \n",
    "    ax[row_idx].plot(freqs_axis, power_axis)\n",
    "    ax[row_idx].set_ylim((0,50))\n",
    "    ax[row_idx].set_title(f'Rank {score_idx+1}')\n",
    "\n",
    "fig.add_subplot(111, frameon=False)\n",
    "plt.tick_params(labelcolor=\"none\", top=False, bottom=False, left=False, right=False)\n",
    "plt.grid(False)\n",
    "plt.xlabel(r\"Frequency ($\\mathrm{min}^{-1}$)\")\n",
    "plt.ylabel(\"Power (dimensionless)\")"
   ]
  },
  {
   "cell_type": "markdown",
   "id": "68eb7c41-3da6-485b-88b2-429ba80021a5",
   "metadata": {},
   "source": [
    "## Worst 5"
   ]
  },
  {
   "cell_type": "markdown",
   "id": "22edfafc-eb0d-44b3-b7d2-3e638e2de5d7",
   "metadata": {},
   "source": [
    "Time series"
   ]
  },
  {
   "cell_type": "code",
   "execution_count": null,
   "id": "8843d5e8-7063-4581-88c3-303613cc9130",
   "metadata": {},
   "outputs": [],
   "source": [
    "nrows = 5\n",
    "fig, ax = plt.subplots(\n",
    "    nrows=nrows,\n",
    "    figsize=(10,10),\n",
    "    sharex=True,\n",
    ")\n",
    "\n",
    "for row_idx in range(nrows):\n",
    "    score_idx = len(scores_sorted) - 1 - row_idx\n",
    "    timeseries = timeseries_df.loc[scores_sorted.index[score_idx]]\n",
    "    \n",
    "    ax[row_idx].plot(timeseries)\n",
    "    ax[row_idx].xaxis.set_major_locator(ticker.MultipleLocator(20))\n",
    "    ax[row_idx].set_title(f'Rank {score_idx+1}')\n",
    "\n",
    "fig.add_subplot(111, frameon=False)\n",
    "plt.tick_params(labelcolor=\"none\", top=False, bottom=False, left=False, right=False)\n",
    "plt.grid(False)\n",
    "plt.xlabel(\"Time (min)\")\n",
    "plt.ylabel(\"Flavin fluorescence, normalised (AU)\")"
   ]
  },
  {
   "cell_type": "markdown",
   "id": "8dee45f1-62b2-485b-ae3d-58e19f90dfc8",
   "metadata": {},
   "source": [
    "Periodograms"
   ]
  },
  {
   "cell_type": "code",
   "execution_count": null,
   "id": "77dc1bc5-e284-4cb8-8a7f-4d600846ee08",
   "metadata": {},
   "outputs": [],
   "source": [
    "nrows = 5\n",
    "fig, ax = plt.subplots(\n",
    "    nrows=nrows,\n",
    "    figsize=(5,10),\n",
    "    sharex=True,\n",
    ")\n",
    "\n",
    "for row_idx in range(nrows):\n",
    "    score_idx = len(scores_sorted) - 1 - row_idx\n",
    "    freqs_axis = freqs_dropna.loc[scores_sorted.index[score_idx]]\n",
    "    power_axis = power_dropna.loc[scores_sorted.index[score_idx]]\n",
    "     \n",
    "    ax[row_idx].plot(freqs_axis, power_axis)\n",
    "    ax[row_idx].set_ylim((0,50))\n",
    "    ax[row_idx].set_title(f'Rank {score_idx+1}')\n",
    "\n",
    "fig.add_subplot(111, frameon=False)\n",
    "plt.tick_params(labelcolor=\"none\", top=False, bottom=False, left=False, right=False)\n",
    "plt.grid(False)\n",
    "plt.xlabel(r\"Frequency ($\\mathrm{min}^{-1}$)\")\n",
    "plt.ylabel(\"Power (dimensionless)\")"
   ]
  },
  {
   "cell_type": "markdown",
   "id": "603d0e8f-2cfb-45ef-bbf9-390c03158e4b",
   "metadata": {},
   "source": [
    "# ROC"
   ]
  },
  {
   "cell_type": "markdown",
   "id": "233fc93c-5238-48e6-b0fa-cc2f09e5672d",
   "metadata": {},
   "source": [
    "Number of independent frequencies ($M$)\n",
    "\n",
    "(Not a for loop because it's the same for each time series, at least for the data I use)"
   ]
  },
  {
   "cell_type": "code",
   "execution_count": null,
   "id": "c315034f-4ffb-4abc-8f16-dceb3d837833",
   "metadata": {
    "scrolled": true
   },
   "outputs": [],
   "source": [
    "time_axis = timeseries_dropna.columns.to_list()\n",
    "time_axis = [float(time) for time in time_axis]"
   ]
  },
  {
   "cell_type": "code",
   "execution_count": null,
   "id": "eec82d65-2253-4658-8bfb-f014482cc57f",
   "metadata": {},
   "outputs": [],
   "source": [
    "sampling_pd = time_axis[1] - time_axis[0]\n",
    "l_ts = time_axis[-1] - time_axis[0]\n",
    "f_lb = 1/l_ts\n",
    "f_ub = 0.5 * (1/sampling_pd)\n",
    "M = f_ub * l_ts"
   ]
  },
  {
   "cell_type": "code",
   "execution_count": null,
   "id": "1be2ec3f-668a-41a0-a60b-19cb251a868a",
   "metadata": {},
   "outputs": [],
   "source": [
    "M"
   ]
  },
  {
   "cell_type": "markdown",
   "id": "3d526658-e6f2-4510-9d58-8b697df29987",
   "metadata": {},
   "source": [
    "Classifications"
   ]
  },
  {
   "cell_type": "code",
   "execution_count": null,
   "id": "673db9c8-91d7-4d0b-8657-eb4f6a271796",
   "metadata": {},
   "outputs": [],
   "source": [
    "def fdr_classify(scores, q):\n",
    "    scores_sorted = scores.sort_values(ascending=False)\n",
    "    n_ts = len(scores_sorted)\n",
    "    classifications = []\n",
    "    for k in range(n_ts):\n",
    "        tmp = -np.log(1 - (1 - ((q*(k+1))/n_ts))**(1/M))\n",
    "        classification = scores_sorted[k] >= tmp\n",
    "        classifications.append(classification)\n",
    "    classifications = np.array(classifications)\n",
    "    classifications_df = pd.DataFrame(classifications, scores_sorted.index, ['classification'])\n",
    "    return classifications_df"
   ]
  },
  {
   "cell_type": "code",
   "execution_count": null,
   "id": "ac6535dc-39e2-4986-90d3-d005b2932ba6",
   "metadata": {},
   "outputs": [],
   "source": [
    "q = 1e-8\n",
    "classifications_df = fdr_classify(scores, q)"
   ]
  },
  {
   "cell_type": "code",
   "execution_count": null,
   "id": "487dfb39-e3df-4169-8eec-d07a0af37758",
   "metadata": {},
   "outputs": [],
   "source": [
    "classifications_df"
   ]
  },
  {
   "cell_type": "markdown",
   "id": "671e1c23-00db-4ef5-90d5-cb5b8a5d1fa8",
   "metadata": {},
   "source": [
    "False positives and true positives"
   ]
  },
  {
   "cell_type": "code",
   "execution_count": null,
   "id": "bd3cc6da-f62f-4e3e-b925-883e9fb40201",
   "metadata": {},
   "outputs": [],
   "source": [
    "true_labels = labels_df.loc[classifications_df.index].score.to_list()\n",
    "predicted_labels = classifications_df.classification.to_list()"
   ]
  },
  {
   "cell_type": "code",
   "execution_count": null,
   "id": "60d4d71c-44cb-41fb-89ea-b30900cbc830",
   "metadata": {},
   "outputs": [],
   "source": [
    "from sklearn.metrics import confusion_matrix\n",
    "\n",
    "conf_matrix = confusion_matrix(true_labels, predicted_labels)\n",
    "true_negative, false_positive, false_negative, true_positive = conf_matrix.ravel()\n",
    "FPR = false_positive / (false_positive + true_negative)\n",
    "TPR = true_positive / (true_positive + false_negative)\n",
    "\n",
    "print(f\"False Positive Rate: {FPR}\")\n",
    "print(f\"True Positive Rate: {TPR}\")"
   ]
  },
  {
   "cell_type": "markdown",
   "id": "1018b9fc-ae0f-4ece-baec-14d2e33479ba",
   "metadata": {},
   "source": [
    "Sweep false discovery rates"
   ]
  },
  {
   "cell_type": "code",
   "execution_count": null,
   "id": "dbe986aa-51cc-4a9f-8b99-a3438b7f0bbe",
   "metadata": {},
   "outputs": [],
   "source": [
    "#vec = np.power(10, np.linspace(-14, -8, 10))\n",
    "vec = np.power(10, np.linspace(-8, -1, 100))"
   ]
  },
  {
   "cell_type": "code",
   "execution_count": null,
   "id": "f4a10602-cc3b-4611-866f-f1f65ed35543",
   "metadata": {},
   "outputs": [],
   "source": [
    "FPR_axis = []\n",
    "TPR_axis = []\n",
    "\n",
    "for q in vec:\n",
    "    classifications_df = fdr_classify(scores, q)\n",
    "    true_labels = labels_df.loc[classifications_df.index].score.to_list()\n",
    "    predicted_labels = classifications_df.classification.to_list()\n",
    "    conf_matrix = confusion_matrix(true_labels, predicted_labels)\n",
    "    true_negative, false_positive, false_negative, true_positive = conf_matrix.ravel()\n",
    "    FPR = false_positive / (false_positive + true_negative)\n",
    "    TPR = true_positive / (true_positive + false_negative)\n",
    "    FPR_axis.append(FPR)\n",
    "    TPR_axis.append(TPR)"
   ]
  },
  {
   "cell_type": "markdown",
   "id": "6581749f-1946-4b01-88c6-e0a92be60c68",
   "metadata": {},
   "source": [
    "ROC curve"
   ]
  },
  {
   "cell_type": "code",
   "execution_count": null,
   "id": "6218f3a2-f777-436a-93ef-b78f6ec26776",
   "metadata": {},
   "outputs": [],
   "source": [
    "fig, ax = plt.subplots(figsize=(5,5))\n",
    "ax.plot(FPR_axis, TPR_axis, marker='o')\n",
    "ax.plot([0,1],[0,1])\n",
    "ax.set_xlim((0,1))\n",
    "ax.set_ylim((0,1))\n",
    "ax.set_xlabel(\"False positive rate\")\n",
    "ax.set_ylabel(\"True positive rate\")"
   ]
  }
 ],
 "metadata": {
  "kernelspec": {
   "display_name": "tschar",
   "language": "python",
   "name": "tschar"
  },
  "language_info": {
   "codemirror_mode": {
    "name": "ipython",
    "version": 3
   },
   "file_extension": ".py",
   "mimetype": "text/x-python",
   "name": "python",
   "nbconvert_exporter": "python",
   "pygments_lexer": "ipython3",
   "version": "3.8.14"
  }
 },
 "nbformat": 4,
 "nbformat_minor": 5
}
