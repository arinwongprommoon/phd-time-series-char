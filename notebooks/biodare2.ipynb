{
 "cells": [
  {
   "cell_type": "code",
   "execution_count": null,
   "id": "8469a2d8-025a-4aec-9468-9bc5896e0f7f",
   "metadata": {},
   "outputs": [],
   "source": [
    "import os\n",
    "import sys\n",
    "module_path = os.path.abspath(os.path.join('..'))\n",
    "if module_path not in sys.path:\n",
    "    sys.path.append(module_path)\n",
    "    \n",
    "%reload_ext autoreload\n",
    "%autoreload 2\n",
    "%matplotlib inline"
   ]
  },
  {
   "cell_type": "markdown",
   "id": "19275469-9d07-45d0-8f5a-5d0cc97642c6",
   "metadata": {},
   "source": [
    "Imports"
   ]
  },
  {
   "cell_type": "code",
   "execution_count": null,
   "id": "9c07b76f-1e59-4195-8ec2-c3ca850b9855",
   "metadata": {},
   "outputs": [],
   "source": [
    "import matplotlib.pyplot as plt\n",
    "import matplotlib.ticker as ticker\n",
    "import numpy as np\n",
    "import pandas as pd\n",
    "import seaborn as sns\n",
    "\n",
    "from postprocessor.core.multisignal.crosscorr import crosscorr\n",
    "from postprocessor.routines.median_plot import median_plot\n",
    "from postprocessor.core.processes.findpeaks import findpeaks"
   ]
  },
  {
   "cell_type": "markdown",
   "id": "8b2c123c-a2fa-44e9-83f6-b6702774f75e",
   "metadata": {},
   "source": [
    "# Load data"
   ]
  },
  {
   "cell_type": "code",
   "execution_count": null,
   "id": "d8796f82-118a-4ce9-bc0f-d6dbb35408c3",
   "metadata": {},
   "outputs": [],
   "source": [
    "data_dir = \"../data/raw/\"\n",
    "group1_name = \"is20016_zwf1egf\"\n",
    "group2_name = \"is20016_by4741\""
   ]
  },
  {
   "cell_type": "code",
   "execution_count": null,
   "id": "dd594c22-5e46-4dfa-999d-b6b0a8103158",
   "metadata": {},
   "outputs": [],
   "source": [
    "filepath1 = data_dir + group1_name\n",
    "timeseries1_filepath = filepath1 + \"_timeseries.csv\"\n",
    "labels1_filepath = filepath1 + \"_labels.csv\"\n",
    "\n",
    "timeseries1_df = pd.read_csv(timeseries1_filepath, index_col=[0,1,2])\n",
    "\n",
    "filepath2 = data_dir + group2_name\n",
    "timeseries2_filepath = filepath2 + \"_timeseries.csv\"\n",
    "\n",
    "timeseries2_df = pd.read_csv(timeseries2_filepath, index_col=[0,1,2])"
   ]
  },
  {
   "cell_type": "markdown",
   "id": "288dbc7b-91c0-451e-b1f6-98ce2a3e9c5c",
   "metadata": {},
   "source": [
    "Join dataframes"
   ]
  },
  {
   "cell_type": "code",
   "execution_count": null,
   "id": "5d80fad1-fa09-4435-a441-3efd6068f5c9",
   "metadata": {},
   "outputs": [],
   "source": [
    "timeseries_df = pd.concat([timeseries1_df, timeseries2_df])"
   ]
  },
  {
   "cell_type": "code",
   "execution_count": null,
   "id": "b9565b53-5d73-41b9-b40f-3af92f91b969",
   "metadata": {
    "scrolled": true
   },
   "outputs": [],
   "source": [
    "timeseries_df"
   ]
  },
  {
   "cell_type": "code",
   "execution_count": null,
   "id": "7f6aaa2d-ca40-4714-b81e-6521164d52ee",
   "metadata": {},
   "outputs": [],
   "source": [
    "timeseries_dropna = timeseries_df.dropna()"
   ]
  },
  {
   "cell_type": "markdown",
   "id": "3d37098d-6aa5-4e2e-a07a-7900869a21d3",
   "metadata": {},
   "source": [
    "# First-approach period estimation\n",
    "\n",
    "Using autocorrelation function"
   ]
  },
  {
   "cell_type": "code",
   "execution_count": null,
   "id": "04f2ed74-0fd5-4894-92dd-82cae61ee71d",
   "metadata": {},
   "outputs": [],
   "source": [
    "# Choose strain\n",
    "strain_name = \"zwf1egf\"\n",
    "strain_mask = [strain_name in index for index in timeseries_dropna.index.get_level_values('position')]\n",
    "timeseries_strain = timeseries_dropna.iloc[strain_mask]"
   ]
  },
  {
   "cell_type": "code",
   "execution_count": null,
   "id": "c843f0af-65aa-46b5-88eb-ddcc05e222bc",
   "metadata": {},
   "outputs": [],
   "source": [
    "autocorr_df = crosscorr.as_function(\n",
    "    timeseries_strain, stationary=False, normalised=True, only_pos=True\n",
    ")"
   ]
  },
  {
   "cell_type": "code",
   "execution_count": null,
   "id": "cd02c08b-04ab-4614-8ed9-354d242b1c20",
   "metadata": {},
   "outputs": [],
   "source": [
    "fig, ax = plt.subplots()\n",
    "\n",
    "# draw acf\n",
    "median_plot(\n",
    "    autocorr_df,\n",
    "    xlabel=\"Lag (time points)\",\n",
    "    ylabel=\"Autocorrelation function\",\n",
    "    ax=ax,\n",
    ")\n",
    "# and axes\n",
    "plt.axhline(0, color=\"k\")\n",
    "plt.axvline(0, color=\"k\")"
   ]
  },
  {
   "cell_type": "code",
   "execution_count": null,
   "id": "2aeb2b97-c238-45ad-804e-d612f746d0f5",
   "metadata": {},
   "outputs": [],
   "source": [
    "# find peaks & troughs\n",
    "mean_acf_df = autocorr_df.mean().to_frame().T\n",
    "peaks_df = findpeaks.as_function(mean_acf_df)\n",
    "\n",
    "# datatype conversions\n",
    "lagaxis = mean_acf_df.columns.to_numpy()\n",
    "lagaxis = lagaxis.astype(float)\n",
    "mean_acf = mean_acf_df.to_numpy()[0]\n",
    "peaks_mask = peaks_df.to_numpy()[0] != 0\n",
    "\n",
    "# Get location of first peak, as an estimate of period\n",
    "est_period = lagaxis[peaks_mask][0]\n",
    "print(est_period)"
   ]
  },
  {
   "cell_type": "markdown",
   "id": "382bd6bb-4b0a-43ce-9356-bda68646d45e",
   "metadata": {},
   "source": [
    "# Scale time axis"
   ]
  },
  {
   "cell_type": "markdown",
   "id": "b1b9f11c-c438-4f53-bc3d-e4e1fd181e30",
   "metadata": {},
   "source": [
    "Target: units are in hours and oscillations are expected to have a period of 24 hours"
   ]
  },
  {
   "cell_type": "code",
   "execution_count": null,
   "id": "97e5c2e4-6f8f-49bb-bbb1-d003d46fa9e5",
   "metadata": {},
   "outputs": [],
   "source": [
    "timeseries_strain"
   ]
  },
  {
   "cell_type": "code",
   "execution_count": null,
   "id": "8b4095aa-7bd0-4b8d-a0bf-6b72527fdefe",
   "metadata": {},
   "outputs": [],
   "source": [
    "timeaxis = timeseries_strain.columns.to_numpy().astype(float)\n",
    "\n",
    "stop = (len(timeaxis)-1)*(24/est_period)\n",
    "scaled_timeaxis = np.linspace(0, stop, num=len(timeaxis))\n",
    "\n",
    "timeseries_scaled = timeseries_strain.copy()\n",
    "timeseries_scaled.columns = scaled_timeaxis\n",
    "\n",
    "timeseries_scaled"
   ]
  },
  {
   "cell_type": "markdown",
   "id": "6e5e7561-4545-4897-b200-e617ec95d0e7",
   "metadata": {},
   "source": [
    "## Scaling back\n",
    "\n",
    "Note: the original phase shift will be lost (i.e. time series will start from 0 rather than whatever it was), but this information is not needed."
   ]
  },
  {
   "cell_type": "code",
   "execution_count": null,
   "id": "20876aad-3b21-4118-807b-70c75fba9f8d",
   "metadata": {},
   "outputs": [],
   "source": [
    "timeaxis_scaled = timeseries_scaled.columns.to_numpy()"
   ]
  },
  {
   "cell_type": "code",
   "execution_count": null,
   "id": "413a5f11-8449-4528-b06e-9ebf39c36a04",
   "metadata": {},
   "outputs": [],
   "source": [
    "sampling_pd = 5\n",
    "scaling_factor = (est_period/24) * sampling_pd\n",
    "\n",
    "timeaxis_unscaled = timeaxis_scaled * scaling_factor"
   ]
  },
  {
   "cell_type": "code",
   "execution_count": null,
   "id": "32855cbe-185f-485c-9eec-ea0b3af938bc",
   "metadata": {},
   "outputs": [],
   "source": [
    "timeaxis_unscaled"
   ]
  },
  {
   "cell_type": "markdown",
   "id": "ee125240-37cd-49f1-87b0-0f364744fbbf",
   "metadata": {},
   "source": [
    "## Alternatively, skip scaling"
   ]
  },
  {
   "cell_type": "code",
   "execution_count": null,
   "id": "d06445e6-d156-4dab-9ab7-b42125b51a32",
   "metadata": {},
   "outputs": [],
   "source": [
    "timeseries_scaled = timeseries_strain.copy()"
   ]
  },
  {
   "cell_type": "markdown",
   "id": "d395d0f9-4b86-421b-be49-1405bf95a3cc",
   "metadata": {},
   "source": [
    "# Change data format"
   ]
  },
  {
   "cell_type": "code",
   "execution_count": null,
   "id": "d10dc227-7209-4dcc-a2ec-d9e6ae599bf2",
   "metadata": {},
   "outputs": [],
   "source": [
    "timeseries_out = timeseries_scaled.T\n",
    "new_columns = [strain_name] * len(timeseries_out.columns)\n",
    "timeseries_out.columns = new_columns"
   ]
  },
  {
   "cell_type": "code",
   "execution_count": null,
   "id": "eb2934a7-2e52-4ff2-9888-841a834faf46",
   "metadata": {},
   "outputs": [],
   "source": [
    "timeseries_out.to_excel(\"../data/interim/is20016_by4741_timeseries_biodare2.xlsx\")"
   ]
  },
  {
   "cell_type": "code",
   "execution_count": null,
   "id": "43cde6a5-e8d7-43e9-9889-78299b72ae75",
   "metadata": {},
   "outputs": [],
   "source": [
    "# Alternatively, CSV\n",
    "timeseries_out.to_csv(\"../data/interim/is20016_zwf1egf_timeseries_biodare2.csv\")"
   ]
  }
 ],
 "metadata": {
  "kernelspec": {
   "display_name": "tschar",
   "language": "python",
   "name": "tschar"
  },
  "language_info": {
   "codemirror_mode": {
    "name": "ipython",
    "version": 3
   },
   "file_extension": ".py",
   "mimetype": "text/x-python",
   "name": "python",
   "nbconvert_exporter": "python",
   "pygments_lexer": "ipython3",
   "version": "3.8.14"
  }
 },
 "nbformat": 4,
 "nbformat_minor": 5
}
