{
 "cells": [
  {
   "cell_type": "code",
   "execution_count": null,
   "id": "8469a2d8-025a-4aec-9468-9bc5896e0f7f",
   "metadata": {},
   "outputs": [],
   "source": [
    "import os\n",
    "import sys\n",
    "module_path = os.path.abspath(os.path.join('..'))\n",
    "if module_path not in sys.path:\n",
    "    sys.path.append(module_path)\n",
    "    \n",
    "%reload_ext autoreload\n",
    "%autoreload 2\n",
    "%matplotlib inline"
   ]
  },
  {
   "cell_type": "markdown",
   "id": "19275469-9d07-45d0-8f5a-5d0cc97642c6",
   "metadata": {},
   "source": [
    "Imports"
   ]
  },
  {
   "cell_type": "code",
   "execution_count": null,
   "id": "9c07b76f-1e59-4195-8ec2-c3ca850b9855",
   "metadata": {},
   "outputs": [],
   "source": [
    "import matplotlib.pyplot as plt\n",
    "import matplotlib.ticker as ticker\n",
    "import numpy as np\n",
    "import pandas as pd\n",
    "import seaborn as sns"
   ]
  },
  {
   "cell_type": "markdown",
   "id": "8b2c123c-a2fa-44e9-83f6-b6702774f75e",
   "metadata": {},
   "source": [
    "# Load data"
   ]
  },
  {
   "cell_type": "code",
   "execution_count": null,
   "id": "d8796f82-118a-4ce9-bc0f-d6dbb35408c3",
   "metadata": {},
   "outputs": [],
   "source": [
    "data_dir = \"../data/raw/\"\n",
    "group1_name = \"st01253_by4742swain\""
   ]
  },
  {
   "cell_type": "code",
   "execution_count": null,
   "id": "dd594c22-5e46-4dfa-999d-b6b0a8103158",
   "metadata": {},
   "outputs": [],
   "source": [
    "filepath1 = data_dir + group1_name\n",
    "timeseries1_filepath = filepath1 + \"_timeseries.csv\"\n",
    "labels1_filepath = filepath1 + \"_labels.csv\"\n",
    "\n",
    "timeseries_df = pd.read_csv(timeseries1_filepath, index_col=[0,1,2])\n",
    "labels_df = pd.read_csv(labels1_filepath, index_col=[0,1,2])"
   ]
  },
  {
   "cell_type": "code",
   "execution_count": null,
   "id": "0c37aad5-5ff0-4a57-9a87-bba2d6cf2736",
   "metadata": {},
   "outputs": [],
   "source": [
    "timeseries_df"
   ]
  },
  {
   "cell_type": "code",
   "execution_count": null,
   "id": "bbe8ea58-ba51-46ce-b270-6573d2d491b5",
   "metadata": {},
   "outputs": [],
   "source": [
    "timeseries_dropna = timeseries_df.dropna()"
   ]
  },
  {
   "cell_type": "code",
   "execution_count": null,
   "id": "602fda1c-4d66-47bf-951b-8c427c9e7d45",
   "metadata": {},
   "outputs": [],
   "source": [
    "labels_df = labels_df == 1"
   ]
  },
  {
   "cell_type": "markdown",
   "id": "bf85f314-8a2b-4d55-a7ef-81042a310e33",
   "metadata": {},
   "source": [
    "# Compute periodogram"
   ]
  },
  {
   "cell_type": "markdown",
   "id": "e0183917-3068-437f-b9d7-d4e6d30bd1e5",
   "metadata": {},
   "source": [
    "## Using aliby (inflexible)"
   ]
  },
  {
   "cell_type": "code",
   "execution_count": null,
   "id": "7f59d693-832b-4fe4-837d-e41b2893f4f8",
   "metadata": {},
   "outputs": [],
   "source": [
    "from postprocessor.core.processes.autoreg import autoreg"
   ]
  },
  {
   "cell_type": "markdown",
   "id": "f19ef901-a556-4236-9ea1-d95c63c8116e",
   "metadata": {},
   "source": [
    "**TODO: Do on whole dataset** (time-consuming)"
   ]
  },
  {
   "cell_type": "code",
   "execution_count": null,
   "id": "8aa6ca78-4118-481d-a606-13dfa901d0e3",
   "metadata": {},
   "outputs": [],
   "source": [
    "freqs_df, power_df, order_df = autoreg.as_function(timeseries_dropna.iloc[0:5])"
   ]
  },
  {
   "cell_type": "markdown",
   "id": "3a5cf962-aa79-42da-b0d5-ea8fe2b3b225",
   "metadata": {},
   "source": [
    "## Using decomposed functions"
   ]
  },
  {
   "cell_type": "markdown",
   "id": "c54bbc97-caaf-4c50-87db-90bd4e5bd1fb",
   "metadata": {},
   "source": [
    "### Fit time series"
   ]
  },
  {
   "cell_type": "code",
   "execution_count": null,
   "id": "8504a165-6388-4221-979a-77daed2f5242",
   "metadata": {},
   "outputs": [],
   "source": [
    "from src.autoreg.autoreg import fit_autoreg, optimise_ar_order, autoreg_periodogram"
   ]
  },
  {
   "cell_type": "code",
   "execution_count": null,
   "id": "da64ba90-00bf-4991-874b-60067767647d",
   "metadata": {},
   "outputs": [],
   "source": [
    "timeseries = timeseries_dropna.iloc[3].to_numpy()"
   ]
  },
  {
   "cell_type": "code",
   "execution_count": null,
   "id": "988c5c8c-f728-4147-a016-0f39f80fc04a",
   "metadata": {},
   "outputs": [],
   "source": [
    "order = 17\n",
    "params = fit_autoreg(timeseries, order)"
   ]
  },
  {
   "cell_type": "code",
   "execution_count": null,
   "id": "f8fcf126-80d3-4ace-b2fa-bbc0ed1cbf5d",
   "metadata": {},
   "outputs": [],
   "source": [
    "params"
   ]
  },
  {
   "cell_type": "code",
   "execution_count": null,
   "id": "c70b6952-47b3-4de8-8cce-cd46c7e530ef",
   "metadata": {},
   "outputs": [],
   "source": [
    "model = np.zeros(len(timeseries))\n",
    "for idx, tp in enumerate(timeseries):\n",
    "    if idx < order:\n",
    "        model[idx] = timeseries[idx]\n",
    "    else:\n",
    "        preceding_points = timeseries[idx-order:idx]\n",
    "        linear_combination = np.dot(params[\"ar_coeffs\"][1::], preceding_points[::-1])\n",
    "        model[idx] = linear_combination"
   ]
  },
  {
   "cell_type": "code",
   "execution_count": null,
   "id": "4532707b-333a-4300-b607-68486049a170",
   "metadata": {},
   "outputs": [],
   "source": [
    "fig, ax = plt.subplots(figsize=(10,3))\n",
    "ax.plot(timeseries, label='Original')\n",
    "ax.plot(model, label=f'Model (order {order})')\n",
    "ax.legend(loc=\"lower left\")\n",
    "ax.set_xlabel(\"Time point\")\n",
    "ax.set_ylabel(\"Flavin autofluorescence,\\n normalised (AU)\")"
   ]
  },
  {
   "cell_type": "markdown",
   "id": "549d5277-62ef-4d29-a415-57b9a7442b94",
   "metadata": {},
   "source": [
    "### Optimise order"
   ]
  },
  {
   "cell_type": "code",
   "execution_count": null,
   "id": "f178e33f-8f62-4588-bef8-2830c8e58938",
   "metadata": {},
   "outputs": [],
   "source": [
    "max_order = int(3 * np.sqrt(len(timeseries)))\n",
    "opt_order = optimise_ar_order(timeseries, max_order)"
   ]
  },
  {
   "cell_type": "code",
   "execution_count": null,
   "id": "4543fd2f-ceed-48e8-bc2a-34afcbcbabcc",
   "metadata": {},
   "outputs": [],
   "source": [
    "print(max_order)\n",
    "print(opt_order)"
   ]
  },
  {
   "cell_type": "markdown",
   "id": "a41e3c5a-c435-4850-bb00-e150d8214edd",
   "metadata": {},
   "source": [
    "### Periodogram"
   ]
  },
  {
   "cell_type": "code",
   "execution_count": null,
   "id": "34720734-ba86-4f3b-8875-f2dcd938f5ba",
   "metadata": {},
   "outputs": [],
   "source": [
    "freqs, power = autoreg_periodogram(timeseries, sampling_period=5, freq_npoints=100, ar_order=opt_order)"
   ]
  },
  {
   "cell_type": "code",
   "execution_count": null,
   "id": "f05b8ef5-6d8d-472e-a726-0f6106c88702",
   "metadata": {},
   "outputs": [],
   "source": [
    "plt.plot(freqs, power)"
   ]
  },
  {
   "cell_type": "code",
   "execution_count": null,
   "id": "46466302-0c6f-4f4e-a271-e90c718fd762",
   "metadata": {},
   "outputs": [],
   "source": [
    "print(np.max(power))"
   ]
  },
  {
   "cell_type": "markdown",
   "id": "1b619fd9-5d5b-4d99-9b9e-c1bd39ee2da7",
   "metadata": {},
   "source": [
    "# Get classifications"
   ]
  },
  {
   "cell_type": "markdown",
   "id": "a10c50a6-5cee-4083-8f65-9e598f9964a0",
   "metadata": {},
   "source": [
    "Oscillatory means max power > 1"
   ]
  },
  {
   "cell_type": "code",
   "execution_count": null,
   "id": "94908f24-4bbd-4f2d-aea3-df0e6f5107c1",
   "metadata": {},
   "outputs": [],
   "source": [
    "power_df.max(axis=1)"
   ]
  }
 ],
 "metadata": {
  "kernelspec": {
   "display_name": "tschar",
   "language": "python",
   "name": "tschar"
  },
  "language_info": {
   "codemirror_mode": {
    "name": "ipython",
    "version": 3
   },
   "file_extension": ".py",
   "mimetype": "text/x-python",
   "name": "python",
   "nbconvert_exporter": "python",
   "pygments_lexer": "ipython3",
   "version": "3.8.14"
  }
 },
 "nbformat": 4,
 "nbformat_minor": 5
}
