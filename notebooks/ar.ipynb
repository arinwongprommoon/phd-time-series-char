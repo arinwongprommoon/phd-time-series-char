{
 "cells": [
  {
   "cell_type": "code",
   "execution_count": null,
   "id": "8469a2d8-025a-4aec-9468-9bc5896e0f7f",
   "metadata": {},
   "outputs": [],
   "source": [
    "import os\n",
    "import sys\n",
    "module_path = os.path.abspath(os.path.join('..'))\n",
    "if module_path not in sys.path:\n",
    "    sys.path.append(module_path)\n",
    "    \n",
    "%reload_ext autoreload\n",
    "%autoreload 2\n",
    "%matplotlib inline"
   ]
  },
  {
   "cell_type": "markdown",
   "id": "19275469-9d07-45d0-8f5a-5d0cc97642c6",
   "metadata": {},
   "source": [
    "Imports"
   ]
  },
  {
   "cell_type": "code",
   "execution_count": null,
   "id": "9c07b76f-1e59-4195-8ec2-c3ca850b9855",
   "metadata": {},
   "outputs": [],
   "source": [
    "import matplotlib.pyplot as plt\n",
    "import matplotlib.ticker as ticker\n",
    "import numpy as np\n",
    "import pandas as pd\n",
    "import seaborn as sns"
   ]
  },
  {
   "cell_type": "markdown",
   "id": "8b2c123c-a2fa-44e9-83f6-b6702774f75e",
   "metadata": {},
   "source": [
    "# Load data"
   ]
  },
  {
   "cell_type": "code",
   "execution_count": null,
   "id": "d8796f82-118a-4ce9-bc0f-d6dbb35408c3",
   "metadata": {},
   "outputs": [],
   "source": [
    "data_dir = \"../data/raw/\"\n",
    "group1_name = \"is20016_zwf1egf\""
   ]
  },
  {
   "cell_type": "code",
   "execution_count": null,
   "id": "dd594c22-5e46-4dfa-999d-b6b0a8103158",
   "metadata": {},
   "outputs": [],
   "source": [
    "filepath1 = data_dir + group1_name\n",
    "timeseries1_filepath = filepath1 + \"_timeseries.csv\"\n",
    "labels1_filepath = filepath1 + \"_labels.csv\"\n",
    "\n",
    "timeseries_df = pd.read_csv(timeseries1_filepath, index_col=[0,1,2])\n",
    "labels_df = pd.read_csv(labels1_filepath, index_col=[0,1,2])"
   ]
  },
  {
   "cell_type": "code",
   "execution_count": null,
   "id": "0c37aad5-5ff0-4a57-9a87-bba2d6cf2736",
   "metadata": {},
   "outputs": [],
   "source": [
    "timeseries_df"
   ]
  },
  {
   "cell_type": "code",
   "execution_count": null,
   "id": "bbe8ea58-ba51-46ce-b270-6573d2d491b5",
   "metadata": {},
   "outputs": [],
   "source": [
    "timeseries_dropna = timeseries_df.dropna()"
   ]
  },
  {
   "cell_type": "code",
   "execution_count": null,
   "id": "602fda1c-4d66-47bf-951b-8c427c9e7d45",
   "metadata": {},
   "outputs": [],
   "source": [
    "labels_df = labels_df == 1"
   ]
  },
  {
   "cell_type": "markdown",
   "id": "bf85f314-8a2b-4d55-a7ef-81042a310e33",
   "metadata": {},
   "source": [
    "# Compute periodogram"
   ]
  },
  {
   "cell_type": "markdown",
   "id": "e0183917-3068-437f-b9d7-d4e6d30bd1e5",
   "metadata": {},
   "source": [
    "## Using aliby (inflexible)"
   ]
  },
  {
   "cell_type": "code",
   "execution_count": null,
   "id": "7f59d693-832b-4fe4-837d-e41b2893f4f8",
   "metadata": {},
   "outputs": [],
   "source": [
    "from postprocessor.core.processes.autoreg import autoreg"
   ]
  },
  {
   "cell_type": "markdown",
   "id": "f19ef901-a556-4236-9ea1-d95c63c8116e",
   "metadata": {},
   "source": [
    "**TODO: Do on whole dataset** (time-consuming)"
   ]
  },
  {
   "cell_type": "code",
   "execution_count": null,
   "id": "8aa6ca78-4118-481d-a606-13dfa901d0e3",
   "metadata": {
    "scrolled": true
   },
   "outputs": [],
   "source": [
    "#freqs_df, power_df, order_df = autoreg.as_function(timeseries_dropna.iloc[0:100])\n",
    "freqs_df, power_df, order_df = autoreg.as_function(timeseries_dropna)\n",
    "\n",
    "freqs_df.to_csv(\"../data/processed/freqs_df.csv\")\n",
    "power_df.to_csv(\"../data/processed/power_df.csv\")\n",
    "order_df.to_csv(\"../data/processed/order_df.csv\")"
   ]
  },
  {
   "cell_type": "code",
   "execution_count": null,
   "id": "cf9d5dba-df0d-4fa8-b8e1-4a95caf8b0a7",
   "metadata": {},
   "outputs": [],
   "source": [
    "freqs_df = pd.read_csv(\"../data/processed/freqs_df.csv\", index_col=[0,1,2])\n",
    "power_df = pd.read_csv(\"../data/processed/power_df.csv\", index_col=[0,1,2])\n",
    "order_df = pd.read_csv(\"../data/processed/order_df.csv\", index_col=[0,1,2])"
   ]
  },
  {
   "cell_type": "code",
   "execution_count": null,
   "id": "e6a0542b-b5d0-4a13-aef5-7da614635fcf",
   "metadata": {},
   "outputs": [],
   "source": [
    "order_df"
   ]
  },
  {
   "cell_type": "markdown",
   "id": "3a5cf962-aa79-42da-b0d5-ea8fe2b3b225",
   "metadata": {},
   "source": [
    "## Using decomposed functions"
   ]
  },
  {
   "cell_type": "markdown",
   "id": "c54bbc97-caaf-4c50-87db-90bd4e5bd1fb",
   "metadata": {},
   "source": [
    "### Fit time series"
   ]
  },
  {
   "cell_type": "code",
   "execution_count": null,
   "id": "8504a165-6388-4221-979a-77daed2f5242",
   "metadata": {},
   "outputs": [],
   "source": [
    "from src.autoreg.autoreg import fit_autoreg, optimise_ar_order, autoreg_periodogram"
   ]
  },
  {
   "cell_type": "code",
   "execution_count": null,
   "id": "da64ba90-00bf-4991-874b-60067767647d",
   "metadata": {},
   "outputs": [],
   "source": [
    "timeseries = timeseries_dropna.iloc[2].to_numpy()"
   ]
  },
  {
   "cell_type": "code",
   "execution_count": null,
   "id": "988c5c8c-f728-4147-a016-0f39f80fc04a",
   "metadata": {},
   "outputs": [],
   "source": [
    "order = 25\n",
    "params = fit_autoreg(timeseries, order)"
   ]
  },
  {
   "cell_type": "code",
   "execution_count": null,
   "id": "f8fcf126-80d3-4ace-b2fa-bbc0ed1cbf5d",
   "metadata": {},
   "outputs": [],
   "source": [
    "params"
   ]
  },
  {
   "cell_type": "code",
   "execution_count": null,
   "id": "c70b6952-47b3-4de8-8cce-cd46c7e530ef",
   "metadata": {},
   "outputs": [],
   "source": [
    "model = np.zeros(len(timeseries))\n",
    "for idx, tp in enumerate(timeseries):\n",
    "    if idx < order:\n",
    "        model[idx] = timeseries[idx]\n",
    "    else:\n",
    "        preceding_points = timeseries[idx-order:idx]\n",
    "        linear_combination = np.dot(params[\"ar_coeffs\"][1::], preceding_points[::-1])\n",
    "        model[idx] = linear_combination"
   ]
  },
  {
   "cell_type": "code",
   "execution_count": null,
   "id": "4532707b-333a-4300-b607-68486049a170",
   "metadata": {},
   "outputs": [],
   "source": [
    "fig, ax = plt.subplots(figsize=(10,3))\n",
    "ax.plot(timeseries, label='Original')\n",
    "ax.plot(model, label=f'Model (order {order})')\n",
    "ax.legend(loc=\"lower left\")\n",
    "ax.set_xlabel(\"Time point\")\n",
    "ax.set_ylabel(\"Flavin autofluorescence,\\n normalised (AU)\")"
   ]
  },
  {
   "cell_type": "markdown",
   "id": "549d5277-62ef-4d29-a415-57b9a7442b94",
   "metadata": {},
   "source": [
    "### Optimise order"
   ]
  },
  {
   "cell_type": "code",
   "execution_count": null,
   "id": "f178e33f-8f62-4588-bef8-2830c8e58938",
   "metadata": {},
   "outputs": [],
   "source": [
    "max_order = int(3 * np.sqrt(len(timeseries)))\n",
    "opt_order = optimise_ar_order(timeseries, max_order)"
   ]
  },
  {
   "cell_type": "code",
   "execution_count": null,
   "id": "4543fd2f-ceed-48e8-bc2a-34afcbcbabcc",
   "metadata": {},
   "outputs": [],
   "source": [
    "print(max_order)\n",
    "print(opt_order)"
   ]
  },
  {
   "cell_type": "markdown",
   "id": "a41e3c5a-c435-4850-bb00-e150d8214edd",
   "metadata": {},
   "source": [
    "### Periodogram"
   ]
  },
  {
   "cell_type": "code",
   "execution_count": null,
   "id": "34720734-ba86-4f3b-8875-f2dcd938f5ba",
   "metadata": {},
   "outputs": [],
   "source": [
    "freqs, power = autoreg_periodogram(timeseries, sampling_period=5, freq_npoints=100, ar_order=opt_order)"
   ]
  },
  {
   "cell_type": "code",
   "execution_count": null,
   "id": "f05b8ef5-6d8d-472e-a726-0f6106c88702",
   "metadata": {},
   "outputs": [],
   "source": [
    "plt.plot(freqs, power)"
   ]
  },
  {
   "cell_type": "code",
   "execution_count": null,
   "id": "46466302-0c6f-4f4e-a271-e90c718fd762",
   "metadata": {},
   "outputs": [],
   "source": [
    "print(np.max(power))"
   ]
  },
  {
   "cell_type": "markdown",
   "id": "1b619fd9-5d5b-4d99-9b9e-c1bd39ee2da7",
   "metadata": {},
   "source": [
    "# Get classifications"
   ]
  },
  {
   "cell_type": "code",
   "execution_count": null,
   "id": "801c07cf-8e84-48ab-9655-6aae4eadeebe",
   "metadata": {},
   "outputs": [],
   "source": [
    "from scipy.signal import argrelextrema"
   ]
  },
  {
   "cell_type": "code",
   "execution_count": null,
   "id": "609dcf50-65ee-4042-99af-ddd96d162c4e",
   "metadata": {},
   "outputs": [],
   "source": [
    "def get_ar_type(power_array):\n",
    "    local_max_list = argrelextrema(power_array, np.greater)[0]\n",
    "    local_min_list = argrelextrema(power_array, np.less)[0]\n",
    "    type = 5\n",
    "    if len(local_max_list) == 0:\n",
    "        type = 1\n",
    "    elif len(local_min_list) == 0:\n",
    "        type = 4\n",
    "    elif (power_array[local_max_list] > 1).any():\n",
    "        type = 3\n",
    "    elif (power_array[local_max_list] < 1).all():\n",
    "        type = 2\n",
    "    else:\n",
    "        type = 0\n",
    "    return type"
   ]
  },
  {
   "cell_type": "code",
   "execution_count": null,
   "id": "40f3715f-2ca1-4cb3-8b5d-310bce10b498",
   "metadata": {},
   "outputs": [],
   "source": [
    "idx = 0\n",
    "\n",
    "power_array = power_df.iloc[idx].to_numpy()\n",
    "min_power = np.min(power_array)\n",
    "max_power = np.max(power_array)\n",
    "freqs_array = freqs_df.iloc[idx].to_numpy()\n",
    "\n",
    "local_max_list = argrelextrema(power_array, np.greater)[0]\n",
    "local_min_list = argrelextrema(power_array, np.less)[0]\n",
    "\n",
    "print(get_ar_type(power_array))\n",
    "\n",
    "plt.plot(freqs_array, power_array)\n",
    "plt.vlines(freqs_array[local_max_list], ymin=min_power, ymax=max_power, colors='g')\n",
    "plt.vlines(freqs_array[local_min_list], ymin=min_power, ymax=max_power, colors='r')"
   ]
  },
  {
   "cell_type": "code",
   "execution_count": null,
   "id": "47797644-f562-424d-a25d-4b366cb085f1",
   "metadata": {},
   "outputs": [],
   "source": [
    "types = power_df.apply(get_ar_type, axis=1, raw=True)"
   ]
  },
  {
   "cell_type": "code",
   "execution_count": null,
   "id": "e27b2711-a602-4e7b-98ff-c4dbaa2d3564",
   "metadata": {},
   "outputs": [],
   "source": [
    "types"
   ]
  },
  {
   "cell_type": "code",
   "execution_count": null,
   "id": "d5db62c5-c982-42f2-af8d-72e6cd84e086",
   "metadata": {},
   "outputs": [],
   "source": [
    "types.value_counts()"
   ]
  },
  {
   "cell_type": "code",
   "execution_count": null,
   "id": "846c7090-9731-4bcc-ad85-f4d07c172c26",
   "metadata": {},
   "outputs": [],
   "source": [
    "classifications = types != 1"
   ]
  },
  {
   "cell_type": "code",
   "execution_count": null,
   "id": "e6f246c5-2f6f-4694-a5a3-7c341bfa4882",
   "metadata": {},
   "outputs": [],
   "source": [
    "classifications"
   ]
  },
  {
   "cell_type": "code",
   "execution_count": null,
   "id": "e9162078-849d-4115-8f96-43ebb70fad46",
   "metadata": {},
   "outputs": [],
   "source": [
    "predicted_labels = classifications.to_list()\n",
    "true_labels = labels_df.loc[classifications.index].to_numpy().T[0].tolist()"
   ]
  },
  {
   "cell_type": "code",
   "execution_count": null,
   "id": "0dbeb5fc-26e3-4b8f-aaf9-75bc743cdb60",
   "metadata": {},
   "outputs": [],
   "source": [
    "from sklearn.metrics import confusion_matrix\n",
    "conf_matrix = confusion_matrix(true_labels, predicted_labels)\n",
    "true_negative, false_positive, false_negative, true_positive = conf_matrix.ravel()"
   ]
  },
  {
   "cell_type": "code",
   "execution_count": null,
   "id": "46dca7af-d2bc-4bc3-a615-fa7a944241ee",
   "metadata": {},
   "outputs": [],
   "source": [
    "conf_matrix"
   ]
  },
  {
   "cell_type": "code",
   "execution_count": null,
   "id": "832d21aa-5001-440f-8063-47ab1d844210",
   "metadata": {},
   "outputs": [],
   "source": [
    "conf_matrix.ravel()"
   ]
  },
  {
   "cell_type": "code",
   "execution_count": null,
   "id": "959210b7-a706-4b36-8e62-4db04f825762",
   "metadata": {},
   "outputs": [],
   "source": [
    "from sklearn.metrics import ConfusionMatrixDisplay"
   ]
  },
  {
   "cell_type": "code",
   "execution_count": null,
   "id": "4906ce14-da65-4331-b472-32f6296f8ca0",
   "metadata": {},
   "outputs": [],
   "source": [
    "disp = ConfusionMatrixDisplay(confusion_matrix=conf_matrix)\n",
    "disp.plot()"
   ]
  },
  {
   "cell_type": "markdown",
   "id": "719d95ba-cf68-480f-89b6-adc8e4c24247",
   "metadata": {},
   "source": [
    "# Relationships between labels, types, and order"
   ]
  },
  {
   "cell_type": "code",
   "execution_count": null,
   "id": "f7195aa3-0e14-4e1b-af18-e65600d4c986",
   "metadata": {},
   "outputs": [],
   "source": [
    "l = labels_df.loc[classifications.index]\n",
    "t = types.loc[classifications.index]\n",
    "\n",
    "combined_df = pd.concat([l, order_df,t], axis=1)\n",
    "combined_df.columns = [\"manual_score\", \"order\", \"JiaGrima2020_type\"]"
   ]
  },
  {
   "cell_type": "code",
   "execution_count": null,
   "id": "4c16b382-10e0-4e3c-8a34-90138ed27e37",
   "metadata": {},
   "outputs": [],
   "source": [
    "ct = pd.crosstab(combined_df['JiaGrima2020_type'], combined_df['manual_score'])"
   ]
  },
  {
   "cell_type": "code",
   "execution_count": null,
   "id": "89ccd0c1-a03c-42be-be97-d57714898084",
   "metadata": {},
   "outputs": [],
   "source": [
    "ct"
   ]
  },
  {
   "cell_type": "markdown",
   "id": "6cc272a2-dc68-4cb8-887a-61cf3b678ac9",
   "metadata": {},
   "source": [
    "order"
   ]
  },
  {
   "cell_type": "code",
   "execution_count": null,
   "id": "8ff2808c-3f78-4ac4-b84f-d97ea8e2d75d",
   "metadata": {},
   "outputs": [],
   "source": [
    "import seaborn as sns"
   ]
  },
  {
   "cell_type": "code",
   "execution_count": null,
   "id": "77a10cbe-e9b9-4102-a2e1-c4b3140856b2",
   "metadata": {},
   "outputs": [],
   "source": [
    "sns.violinplot(data=combined_df, x=\"JiaGrima2020_type\", y=\"order\")"
   ]
  },
  {
   "cell_type": "code",
   "execution_count": null,
   "id": "d258f7bd-5bdb-4539-a6b8-041113b755df",
   "metadata": {},
   "outputs": [],
   "source": [
    "sns.boxplot(data=combined_df, x=\"JiaGrima2020_type\", y=\"order\", hue=\"manual_score\")"
   ]
  },
  {
   "cell_type": "code",
   "execution_count": null,
   "id": "1ce65a4b-f202-47ae-a61a-1fd4a62dd6b4",
   "metadata": {},
   "outputs": [],
   "source": [
    "sns.boxplot(data=combined_df, x=\"manual_score\", y=\"order\", hue=\"JiaGrima2020_type\")"
   ]
  },
  {
   "cell_type": "code",
   "execution_count": null,
   "id": "d2bbc03a-5cd9-4501-a5b0-f112e3cba2b3",
   "metadata": {},
   "outputs": [],
   "source": [
    "sns.violinplot(data=combined_df, x=\"manual_score\", y=\"order\")"
   ]
  },
  {
   "cell_type": "code",
   "execution_count": null,
   "id": "f7b04c43-49ae-42be-90f2-d4d0f030fdef",
   "metadata": {},
   "outputs": [],
   "source": [
    "import scipy as sp"
   ]
  },
  {
   "cell_type": "code",
   "execution_count": null,
   "id": "8fd161cb-e71f-4456-b463-8c535e8ace5b",
   "metadata": {},
   "outputs": [],
   "source": [
    "order_if_score_false = combined_df[combined_df[\"manual_score\"] == False].order.to_numpy()\n",
    "order_if_score_true = combined_df[combined_df[\"manual_score\"] == True].order.to_numpy()"
   ]
  },
  {
   "cell_type": "code",
   "execution_count": null,
   "id": "a1c6820a-e652-4765-8b15-f512dccf3921",
   "metadata": {},
   "outputs": [],
   "source": [
    "sp.stats.ks_2samp(order_if_score_false, order_if_score_true)"
   ]
  },
  {
   "cell_type": "markdown",
   "id": "2ae25d7c-32db-4762-bea1-e7a9689ea9cc",
   "metadata": {},
   "source": [
    "# Inspect the calculation process for each time series"
   ]
  },
  {
   "cell_type": "code",
   "execution_count": null,
   "id": "4b6320c4-a306-4b4a-91c0-b7011eaef90f",
   "metadata": {
    "scrolled": true
   },
   "outputs": [],
   "source": [
    "combined_df"
   ]
  },
  {
   "cell_type": "code",
   "execution_count": null,
   "id": "986d1e7a-eb63-4f4f-a85a-3b180401d74b",
   "metadata": {},
   "outputs": [],
   "source": [
    "idx = 30"
   ]
  },
  {
   "cell_type": "code",
   "execution_count": null,
   "id": "f8c67982-5997-4678-a01a-f8c9de4fb4d1",
   "metadata": {},
   "outputs": [],
   "source": [
    "manual_score = combined_df.iloc[idx].manual_score\n",
    "print(f'Manual score: {manual_score}')\n",
    "\n",
    "# Time series\n",
    "timeseries = timeseries_dropna.iloc[idx].to_numpy()\n",
    "order = combined_df.iloc[idx].order\n",
    "params = fit_autoreg(timeseries, order)\n",
    "\n",
    "model = np.zeros(len(timeseries))\n",
    "for ii, tp in enumerate(timeseries):\n",
    "    if ii < order:\n",
    "        model[ii] = timeseries[ii]\n",
    "    else:\n",
    "        preceding_points = timeseries[ii-order:ii]\n",
    "        linear_combination = np.dot(params[\"ar_coeffs\"][1::], preceding_points[::-1])\n",
    "        model[ii] = linear_combination\n",
    "\n",
    "fig, ax = plt.subplots(figsize=(10,3))\n",
    "ax.plot(timeseries, label='Original')\n",
    "ax.plot(model, label=f'Model (order {order})')\n",
    "ax.legend(loc=\"lower left\")\n",
    "ax.set_xlabel(\"Time point\")\n",
    "ax.set_ylabel(\"Flavin autofluorescence,\\n normalised (AU)\")\n",
    "\n",
    "# Power spectrum\n",
    "power_array = power_df.iloc[idx].to_numpy()\n",
    "min_power = np.min(power_array)\n",
    "max_power = np.max(power_array)\n",
    "freqs_array = freqs_df.iloc[idx].to_numpy()\n",
    "\n",
    "local_max_list = argrelextrema(power_array, np.greater)[0]\n",
    "local_min_list = argrelextrema(power_array, np.less)[0]\n",
    "\n",
    "ar_type = combined_df.iloc[idx].JiaGrima2020_type\n",
    "print(f'AR Type {ar_type}')\n",
    "\n",
    "fig, ax = plt.subplots()\n",
    "ax.plot(freqs_array, power_array)\n",
    "ax.vlines(freqs_array[local_max_list], ymin=min_power, ymax=max_power, colors='g')\n",
    "ax.vlines(freqs_array[local_min_list], ymin=min_power, ymax=max_power, colors='r')"
   ]
  },
  {
   "cell_type": "markdown",
   "id": "f5609bc1-3d37-4c7e-8ddf-749f642efc0d",
   "metadata": {},
   "source": [
    "extrema"
   ]
  },
  {
   "cell_type": "code",
   "execution_count": null,
   "id": "54ddaa57-ccb3-4353-a78e-919712e65f56",
   "metadata": {},
   "outputs": [],
   "source": [
    "local_maxima = []\n",
    "local_minima = []\n",
    "\n",
    "for power_spectrum_idx in range(len(power_df)):\n",
    "    power_array = power_df.iloc[power_spectrum_idx].to_numpy()\n",
    "    local_max_list = argrelextrema(power_array, np.greater)[0]\n",
    "    local_min_list = argrelextrema(power_array, np.less)[0]\n",
    "    local_maxima.append(len(local_max_list))\n",
    "    local_minima.append(len(local_min_list))"
   ]
  },
  {
   "cell_type": "code",
   "execution_count": null,
   "id": "bf73610d-f187-4e98-8664-9d2d92e9cf74",
   "metadata": {},
   "outputs": [],
   "source": [
    "mult_maxima = np.array(local_maxima) > 1"
   ]
  },
  {
   "cell_type": "code",
   "execution_count": null,
   "id": "218997c1-d2a8-48dd-a74c-380f8d704716",
   "metadata": {},
   "outputs": [],
   "source": [
    "temp_df = pd.concat([l, order_df,t], axis=1)\n",
    "temp_df.columns = [\"manual_score\", \"order\", \"JiaGrima2020_type\"]"
   ]
  },
  {
   "cell_type": "code",
   "execution_count": null,
   "id": "eb590ca5-4e8e-4f57-88c2-f133f3d2117a",
   "metadata": {},
   "outputs": [],
   "source": [
    "temp_df[\"mult_maxima\"] = mult_maxima"
   ]
  },
  {
   "cell_type": "code",
   "execution_count": null,
   "id": "8946fee9-517e-497e-b2b7-7218ede57cfd",
   "metadata": {},
   "outputs": [],
   "source": [
    "temp_df"
   ]
  },
  {
   "cell_type": "code",
   "execution_count": null,
   "id": "7c73eee6-364c-4726-bd8d-d3ca1619f2a7",
   "metadata": {},
   "outputs": [],
   "source": [
    "ct = pd.crosstab(temp_df['JiaGrima2020_type'], [temp_df['manual_score'], temp_df['mult_maxima']])\n",
    "ct"
   ]
  },
  {
   "cell_type": "code",
   "execution_count": null,
   "id": "f3669456-e2d5-4606-8f44-9706f3b025b8",
   "metadata": {},
   "outputs": [],
   "source": [
    "temp_df[\"local_maxima\"] = local_maxima"
   ]
  },
  {
   "cell_type": "code",
   "execution_count": null,
   "id": "5b9aae50-d8c9-483f-baf2-9cfcb8450218",
   "metadata": {},
   "outputs": [],
   "source": [
    "sns.boxplot(data=temp_df, x=\"manual_score\", y=\"order\", hue=\"local_maxima\")"
   ]
  },
  {
   "cell_type": "code",
   "execution_count": null,
   "id": "f66cbe6f-b06a-48be-bec7-5ac6c84812b1",
   "metadata": {},
   "outputs": [],
   "source": [
    "sns.displot(data=temp_df, x=\"local_maxima\", hue=\"manual_score\", multiple=\"stack\")"
   ]
  },
  {
   "cell_type": "code",
   "execution_count": null,
   "id": "43bc8cbd-18d9-4042-9a4b-d3ea17f811a4",
   "metadata": {},
   "outputs": [],
   "source": [
    "sns.histplot(data=temp_df, x=\"manual_score\", hue=\"local_maxima\", multiple=\"dodge\", stat=\"percent\")"
   ]
  },
  {
   "cell_type": "code",
   "execution_count": null,
   "id": "c4912472-5ced-4474-bd89-9567ea93ac7f",
   "metadata": {},
   "outputs": [],
   "source": [
    "ct = pd.crosstab(temp_df['manual_score'], temp_df['local_maxima'], normalize='index')\n",
    "ct"
   ]
  },
  {
   "cell_type": "code",
   "execution_count": null,
   "id": "efa2e353-bc22-46ec-a8f1-3f3330b3e184",
   "metadata": {},
   "outputs": [],
   "source": [
    "ct.plot(kind='bar', stacked=True)"
   ]
  },
  {
   "cell_type": "code",
   "execution_count": null,
   "id": "cc5ae79e-b25c-447f-a4cb-7768831f825c",
   "metadata": {},
   "outputs": [],
   "source": [
    "np.mean(temp_df[temp_df['manual_score'] == True].local_maxima)"
   ]
  },
  {
   "cell_type": "code",
   "execution_count": null,
   "id": "46f4de67-33db-4dda-8239-6df7454a9016",
   "metadata": {},
   "outputs": [],
   "source": [
    "from scipy import stats"
   ]
  },
  {
   "cell_type": "code",
   "execution_count": null,
   "id": "a7156ae4-a333-4507-bb03-e9d3e383350f",
   "metadata": {},
   "outputs": [],
   "source": [
    "ct = pd.crosstab(temp_df['manual_score'], temp_df['local_maxima'])\n",
    "stats.chi2_contingency(ct)"
   ]
  }
 ],
 "metadata": {
  "kernelspec": {
   "display_name": "tschar",
   "language": "python",
   "name": "tschar"
  },
  "language_info": {
   "codemirror_mode": {
    "name": "ipython",
    "version": 3
   },
   "file_extension": ".py",
   "mimetype": "text/x-python",
   "name": "python",
   "nbconvert_exporter": "python",
   "pygments_lexer": "ipython3",
   "version": "3.8.14"
  }
 },
 "nbformat": 4,
 "nbformat_minor": 5
}
