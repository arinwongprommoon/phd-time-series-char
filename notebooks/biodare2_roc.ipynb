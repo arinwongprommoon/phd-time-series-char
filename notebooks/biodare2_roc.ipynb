{
 "cells": [
  {
   "cell_type": "code",
   "execution_count": null,
   "id": "8469a2d8-025a-4aec-9468-9bc5896e0f7f",
   "metadata": {},
   "outputs": [],
   "source": [
    "import os\n",
    "import sys\n",
    "module_path = os.path.abspath(os.path.join('..'))\n",
    "if module_path not in sys.path:\n",
    "    sys.path.append(module_path)\n",
    "    \n",
    "%reload_ext autoreload\n",
    "%autoreload 2\n",
    "%matplotlib inline"
   ]
  },
  {
   "cell_type": "markdown",
   "id": "19275469-9d07-45d0-8f5a-5d0cc97642c6",
   "metadata": {},
   "source": [
    "Imports"
   ]
  },
  {
   "cell_type": "code",
   "execution_count": null,
   "id": "9c07b76f-1e59-4195-8ec2-c3ca850b9855",
   "metadata": {},
   "outputs": [],
   "source": [
    "import matplotlib.pyplot as plt\n",
    "import matplotlib.ticker as ticker\n",
    "import numpy as np\n",
    "import pandas as pd\n",
    "import seaborn as sns"
   ]
  },
  {
   "cell_type": "markdown",
   "id": "8b2c123c-a2fa-44e9-83f6-b6702774f75e",
   "metadata": {},
   "source": [
    "# Load data"
   ]
  },
  {
   "cell_type": "code",
   "execution_count": null,
   "id": "d8796f82-118a-4ce9-bc0f-d6dbb35408c3",
   "metadata": {},
   "outputs": [],
   "source": [
    "data_dir = \"../data/raw/\"\n",
    "group1_name = \"is20016_by4741\""
   ]
  },
  {
   "cell_type": "code",
   "execution_count": null,
   "id": "dd594c22-5e46-4dfa-999d-b6b0a8103158",
   "metadata": {},
   "outputs": [],
   "source": [
    "filepath1 = data_dir + group1_name\n",
    "timeseries1_filepath = filepath1 + \"_timeseries.csv\"\n",
    "labels1_filepath = filepath1 + \"_labels.csv\""
   ]
  },
  {
   "cell_type": "code",
   "execution_count": null,
   "id": "bbe8ea58-ba51-46ce-b270-6573d2d491b5",
   "metadata": {},
   "outputs": [],
   "source": [
    "timeseries_df = pd.read_csv(timeseries1_filepath, index_col=[0,1,2])\n",
    "timeseries_dropna = timeseries_df.dropna()"
   ]
  },
  {
   "cell_type": "code",
   "execution_count": null,
   "id": "602fda1c-4d66-47bf-951b-8c427c9e7d45",
   "metadata": {},
   "outputs": [],
   "source": [
    "labels_df = pd.read_csv(labels1_filepath, index_col=[0,1,2])\n",
    "labels_df = labels_df == 1\n",
    "labels_df = labels_df.loc[timeseries_dropna.index]"
   ]
  },
  {
   "cell_type": "markdown",
   "id": "cd095f6d-1c7b-4208-a162-ff6cd492b5b6",
   "metadata": {},
   "source": [
    "# Load BioDare2 rhythmicity detection results"
   ]
  },
  {
   "cell_type": "code",
   "execution_count": null,
   "id": "d6284992-efdd-43e1-95e2-44d25e13c277",
   "metadata": {},
   "outputs": [],
   "source": [
    "rhythm_dir = \"../data/interim/\"\n",
    "rhythm_filepath = rhythm_dir + \"BioDare_\" + group1_name + \"_rhythmicity_copy.csv\"\n",
    "rhythm_df_full = pd.read_csv(rhythm_filepath)"
   ]
  },
  {
   "cell_type": "code",
   "execution_count": null,
   "id": "74e92bf7-f344-4390-96a8-f678158650c3",
   "metadata": {},
   "outputs": [],
   "source": [
    "rhythm_df_full"
   ]
  },
  {
   "cell_type": "markdown",
   "id": "84b5735e-2613-4788-92ae-8b05eb286d75",
   "metadata": {},
   "source": [
    "## Get just what I need"
   ]
  },
  {
   "cell_type": "code",
   "execution_count": null,
   "id": "e7db93af-1c39-4ed0-8c4e-977cb4492e96",
   "metadata": {},
   "outputs": [],
   "source": [
    "rhythm_df = rhythm_df_full[['Data Id', 'emp p BH Corrected']]"
   ]
  },
  {
   "cell_type": "code",
   "execution_count": null,
   "id": "5484722b-a974-4186-ba2d-bcf03d86622b",
   "metadata": {},
   "outputs": [],
   "source": [
    "rhythm_df"
   ]
  },
  {
   "cell_type": "markdown",
   "id": "603d0e8f-2cfb-45ef-bbf9-390c03158e4b",
   "metadata": {},
   "source": [
    "# ROC"
   ]
  },
  {
   "cell_type": "markdown",
   "id": "3d526658-e6f2-4510-9d58-8b697df29987",
   "metadata": {},
   "source": [
    "Classifications"
   ]
  },
  {
   "cell_type": "code",
   "execution_count": null,
   "id": "6db30658-e5cf-44d9-8874-006009a5880c",
   "metadata": {},
   "outputs": [],
   "source": [
    "q = 0.1\n",
    "classifications = rhythm_df[[\"emp p BH Corrected\"]].values.ravel() < q"
   ]
  },
  {
   "cell_type": "markdown",
   "id": "671e1c23-00db-4ef5-90d5-cb5b8a5d1fa8",
   "metadata": {},
   "source": [
    "False positives and true positives"
   ]
  },
  {
   "cell_type": "code",
   "execution_count": null,
   "id": "bd3cc6da-f62f-4e3e-b925-883e9fb40201",
   "metadata": {},
   "outputs": [],
   "source": [
    "true_labels = labels_df.score.to_list()\n",
    "predicted_labels = classifications.tolist()"
   ]
  },
  {
   "cell_type": "code",
   "execution_count": null,
   "id": "60d4d71c-44cb-41fb-89ea-b30900cbc830",
   "metadata": {},
   "outputs": [],
   "source": [
    "from sklearn.metrics import confusion_matrix\n",
    "\n",
    "conf_matrix = confusion_matrix(true_labels, predicted_labels)\n",
    "true_negative, false_positive, false_negative, true_positive = conf_matrix.ravel()\n",
    "FPR = false_positive / (false_positive + true_negative)\n",
    "TPR = true_positive / (true_positive + false_negative)\n",
    "\n",
    "print(f\"False Positive Rate: {FPR}\")\n",
    "print(f\"True Positive Rate: {TPR}\")"
   ]
  },
  {
   "cell_type": "markdown",
   "id": "1018b9fc-ae0f-4ece-baec-14d2e33479ba",
   "metadata": {},
   "source": [
    "Sweep false discovery rates"
   ]
  },
  {
   "cell_type": "code",
   "execution_count": null,
   "id": "dbe986aa-51cc-4a9f-8b99-a3438b7f0bbe",
   "metadata": {},
   "outputs": [],
   "source": [
    "# From BioDARE\n",
    "#vec = np.array([0.0001, 0.001, 0.005, 0.01, 0.05, 0.1])\n",
    "\n",
    "# Custom\n",
    "vec = np.power(10, np.linspace(-8, 0, 100))"
   ]
  },
  {
   "cell_type": "code",
   "execution_count": null,
   "id": "f4a10602-cc3b-4611-866f-f1f65ed35543",
   "metadata": {},
   "outputs": [],
   "source": [
    "true_labels = labels_df.score.to_list()\n",
    "\n",
    "FPR_axis = []\n",
    "TPR_axis = []\n",
    "\n",
    "for q in vec:\n",
    "    classifications = rhythm_df[[\"emp p BH Corrected\"]].values.ravel() < q\n",
    "    predicted_labels = classifications.tolist()\n",
    "    conf_matrix = confusion_matrix(true_labels, predicted_labels)\n",
    "    true_negative, false_positive, false_negative, true_positive = conf_matrix.ravel()\n",
    "    FPR = false_positive / (false_positive + true_negative)\n",
    "    TPR = true_positive / (true_positive + false_negative)\n",
    "    FPR_axis.append(FPR)\n",
    "    TPR_axis.append(TPR)"
   ]
  },
  {
   "cell_type": "markdown",
   "id": "6581749f-1946-4b01-88c6-e0a92be60c68",
   "metadata": {},
   "source": [
    "ROC curve"
   ]
  },
  {
   "cell_type": "code",
   "execution_count": null,
   "id": "6218f3a2-f777-436a-93ef-b78f6ec26776",
   "metadata": {},
   "outputs": [],
   "source": [
    "fig, ax = plt.subplots(figsize=(5,5))\n",
    "ax.plot(FPR_axis, TPR_axis, marker='o')\n",
    "ax.plot([0,1],[0,1])\n",
    "ax.set_xlim((0,1))\n",
    "ax.set_ylim((0,1))\n",
    "ax.set_xlabel(\"False positive rate\")\n",
    "ax.set_ylabel(\"True positive rate\")"
   ]
  }
 ],
 "metadata": {
  "kernelspec": {
   "display_name": "tschar",
   "language": "python",
   "name": "tschar"
  },
  "language_info": {
   "codemirror_mode": {
    "name": "ipython",
    "version": 3
   },
   "file_extension": ".py",
   "mimetype": "text/x-python",
   "name": "python",
   "nbconvert_exporter": "python",
   "pygments_lexer": "ipython3",
   "version": "3.8.14"
  }
 },
 "nbformat": 4,
 "nbformat_minor": 5
}
