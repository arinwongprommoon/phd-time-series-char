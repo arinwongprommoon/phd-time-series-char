{
 "cells": [
  {
   "cell_type": "code",
   "execution_count": null,
   "id": "40e371e4-5fbb-4912-ba27-e2ddf1ca8838",
   "metadata": {},
   "outputs": [],
   "source": [
    "import os\n",
    "import sys\n",
    "module_path = os.path.abspath(os.path.join('..'))\n",
    "if module_path not in sys.path:\n",
    "    sys.path.append(module_path)\n",
    "%reload_ext autoreload\n",
    "%autoreload 2\n",
    "%matplotlib inline"
   ]
  },
  {
   "cell_type": "markdown",
   "id": "98bd94b0-330e-4445-abfd-3f51e8a4a9d4",
   "metadata": {},
   "source": [
    "Imports"
   ]
  },
  {
   "cell_type": "code",
   "execution_count": null,
   "id": "60e1eeb0-60bf-48e9-a6e5-1c066a207654",
   "metadata": {},
   "outputs": [],
   "source": [
    "import matplotlib.pyplot as plt\n",
    "import matplotlib.ticker as ticker\n",
    "import numpy as np\n",
    "import pandas as pd\n",
    "import seaborn as sns\n",
    "\n",
    "from postprocessor.core.processes.fft import fft, fftParameters"
   ]
  },
  {
   "cell_type": "markdown",
   "id": "aacd5c39-9f9e-49ee-bbe7-a9b074918097",
   "metadata": {},
   "source": [
    "# Load data"
   ]
  },
  {
   "cell_type": "code",
   "execution_count": null,
   "id": "2de01423-8433-4f61-ac29-b87f9c18b03f",
   "metadata": {},
   "outputs": [],
   "source": [
    "data_dir = \"../data/raw/\"\n",
    "group_name = \"st01649_tsa1tsa2morgan\""
   ]
  },
  {
   "cell_type": "code",
   "execution_count": null,
   "id": "04184359-ea4b-4732-abf7-bc7fefe96e48",
   "metadata": {},
   "outputs": [],
   "source": [
    "filepath = data_dir + group_name\n",
    "timeseries_filepath = filepath + \"_flavin_timeseries.csv\"\n",
    "labels_filepath = filepath + \"_labels.csv\"\n",
    "\n",
    "timeseries_df = pd.read_csv(timeseries_filepath, index_col=[0,1,2])\n",
    "labels_df = pd.read_csv(labels_filepath, index_col=[0,1,2])"
   ]
  },
  {
   "cell_type": "markdown",
   "id": "3ae4a659-3527-461c-a848-79c74bba3922",
   "metadata": {},
   "source": [
    "# Select data"
   ]
  },
  {
   "cell_type": "markdown",
   "id": "5e356c68-1a78-4fa9-aa4c-3837435c3703",
   "metadata": {},
   "source": [
    "Drop NaNs"
   ]
  },
  {
   "cell_type": "code",
   "execution_count": null,
   "id": "7480eddb-47c5-4fde-96eb-967c35ce0552",
   "metadata": {},
   "outputs": [],
   "source": [
    "timeseries_dropna = timeseries_df.dropna()"
   ]
  },
  {
   "cell_type": "code",
   "execution_count": null,
   "id": "3eba01a5-ded4-42c8-b043-76fd2f208661",
   "metadata": {},
   "outputs": [],
   "source": [
    "labels_dropna = labels_df.loc[timeseries_dropna.index]"
   ]
  },
  {
   "cell_type": "markdown",
   "id": "210ca313-f917-4082-a042-5e53d7672126",
   "metadata": {},
   "source": [
    "Select oscillatory time series"
   ]
  },
  {
   "cell_type": "code",
   "execution_count": null,
   "id": "902446ad-4f1b-4ace-81ae-8f98413a689c",
   "metadata": {},
   "outputs": [],
   "source": [
    "timeseries_osc = timeseries_dropna.loc[labels_dropna[labels_dropna.score == 1].index]"
   ]
  },
  {
   "cell_type": "code",
   "execution_count": null,
   "id": "20137dd5-233f-433a-9dc4-d31dd8e12e16",
   "metadata": {},
   "outputs": [],
   "source": [
    "timeseries_osc"
   ]
  },
  {
   "cell_type": "markdown",
   "id": "8e666014-ea79-4def-b282-bbfdd4c49a86",
   "metadata": {},
   "source": [
    "# Signal-to-noise ratio"
   ]
  },
  {
   "cell_type": "code",
   "execution_count": null,
   "id": "b9c9b351-0223-4f26-a497-04b724a76038",
   "metadata": {},
   "outputs": [],
   "source": [
    "fft_freqs_df, fft_power_df = fft.as_function(timeseries_osc)"
   ]
  },
  {
   "cell_type": "code",
   "execution_count": null,
   "id": "8306d3a7-2c88-47be-bc0e-223ea628b073",
   "metadata": {},
   "outputs": [],
   "source": [
    "def find_nearest(array, value):\n",
    "    \"\"\"find index of nearest value in numpy array\"\"\"\n",
    "    array = np.asarray(array)\n",
    "    idx = (np.abs(array - value)).argmin()\n",
    "    return array[idx]\n",
    "\n",
    "\n",
    "def get_snr(fft_freqs_df, fft_power_df, cutoff_freq):\n",
    "    \"\"\"Get signal-to-noise ratio from a Fourier spectrum\n",
    "\n",
    "    Get signal-to-noise ratio from a Fourier spectrum. Defines a cut-off\n",
    "    frequency; frequencies lower than this is considered signal, while\n",
    "    frequencies higher than this is considered noise. The signal-to-noise\n",
    "    ratio is defined as the area under the Fourier spectrum to the left of\n",
    "    the cut-off divided by the area under the Fourier spectrum to the right\n",
    "    of the cut-off. Follows:\n",
    "\n",
    "    Parameters\n",
    "    ----------\n",
    "    fft_freqs_df : pandas.DataFrame\n",
    "        DataFrame showing in each row the frequency dimension of each\n",
    "        Fourier spectrum\n",
    "    fft_power_df : pandas.DataFrame\n",
    "        DataFrame showing in each row the periodogram (Fourier spectrum)\n",
    "    cutoff_freq : float\n",
    "        cut-off frequency to divide signal and noise\n",
    "    \"\"\"\n",
    "    fft_freqs_array = fft_freqs_df.to_numpy()\n",
    "    fft_power_array = fft_power_df.to_numpy()\n",
    "    snr = []\n",
    "    for rowindex, _ in enumerate(fft_power_array):\n",
    "        cutoff_freq_nearest = find_nearest(\n",
    "            fft_freqs_array[rowindex, :], cutoff_freq\n",
    "        )\n",
    "        # nans can occur if the origin time series has nans -- skip over these\n",
    "        if np.isnan(cutoff_freq_nearest):\n",
    "            snr.append(np.nan)\n",
    "        else:\n",
    "            cutoff_colindex = np.where(\n",
    "                fft_freqs_array[rowindex, :] == cutoff_freq_nearest\n",
    "            )[0].item()\n",
    "            area_all = np.trapz(\n",
    "                y=fft_power_array[rowindex, :], x=fft_freqs_array[rowindex, :]\n",
    "            )\n",
    "            area_signal = np.trapz(\n",
    "                y=fft_power_array[rowindex, 0:cutoff_colindex],\n",
    "                x=fft_freqs_array[rowindex, 0:cutoff_colindex],\n",
    "            )\n",
    "            area_noise = area_all - area_signal\n",
    "            snr.append(area_signal / area_noise)\n",
    "    return np.array(snr)"
   ]
  },
  {
   "cell_type": "code",
   "execution_count": null,
   "id": "3742e409-f515-4b40-a000-91ffd501fe08",
   "metadata": {},
   "outputs": [],
   "source": [
    "snr_array = get_snr(fft_freqs_df, fft_power_df, cutoff_freq=0.01766784)"
   ]
  },
  {
   "cell_type": "code",
   "execution_count": null,
   "id": "dbe29d57-5de8-4861-b541-f2ffb0a0225e",
   "metadata": {},
   "outputs": [],
   "source": [
    "from postprocessor.routines.histogram import histogram"
   ]
  },
  {
   "cell_type": "code",
   "execution_count": null,
   "id": "4a0a394d-f0f5-4abf-be77-3394e34739cf",
   "metadata": {},
   "outputs": [],
   "source": [
    "histogram(\n",
    "    snr_array,\n",
    "    label='snr',\n",
    "    binsize=0.5,\n",
    ")"
   ]
  },
  {
   "cell_type": "code",
   "execution_count": null,
   "id": "33af7c80-bef1-42d6-b610-7e4c4cd16c06",
   "metadata": {},
   "outputs": [],
   "source": [
    "np.median(snr_array)"
   ]
  }
 ],
 "metadata": {
  "kernelspec": {
   "display_name": "tschar",
   "language": "python",
   "name": "tschar"
  },
  "language_info": {
   "codemirror_mode": {
    "name": "ipython",
    "version": 3
   },
   "file_extension": ".py",
   "mimetype": "text/x-python",
   "name": "python",
   "nbconvert_exporter": "python",
   "pygments_lexer": "ipython3",
   "version": "3.8.14"
  }
 },
 "nbformat": 4,
 "nbformat_minor": 5
}
