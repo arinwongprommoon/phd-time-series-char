{
 "cells": [
  {
   "cell_type": "code",
   "execution_count": null,
   "id": "8469a2d8-025a-4aec-9468-9bc5896e0f7f",
   "metadata": {},
   "outputs": [],
   "source": [
    "import os\n",
    "import sys\n",
    "module_path = os.path.abspath(os.path.join('..'))\n",
    "if module_path not in sys.path:\n",
    "    sys.path.append(module_path)\n",
    "    \n",
    "%reload_ext autoreload\n",
    "%autoreload 2\n",
    "%matplotlib inline"
   ]
  },
  {
   "cell_type": "markdown",
   "id": "19275469-9d07-45d0-8f5a-5d0cc97642c6",
   "metadata": {},
   "source": [
    "Imports"
   ]
  },
  {
   "cell_type": "code",
   "execution_count": null,
   "id": "9c07b76f-1e59-4195-8ec2-c3ca850b9855",
   "metadata": {},
   "outputs": [],
   "source": [
    "import matplotlib.pyplot as plt\n",
    "import numpy as np\n",
    "import pandas as pd\n",
    "import seaborn as sns\n",
    "import umap\n",
    "\n",
    "from postprocessor.core.processes.catch22 import catch22\n",
    "from postprocessor.core.processes.standardscaler import standardscaler"
   ]
  },
  {
   "cell_type": "code",
   "execution_count": null,
   "id": "4c0b9016-1b45-47c4-bdea-b165bb5e0b49",
   "metadata": {},
   "outputs": [],
   "source": [
    "from src.umapper import umapper"
   ]
  },
  {
   "cell_type": "markdown",
   "id": "8b2c123c-a2fa-44e9-83f6-b6702774f75e",
   "metadata": {},
   "source": [
    "# Load data"
   ]
  },
  {
   "cell_type": "code",
   "execution_count": null,
   "id": "d8796f82-118a-4ce9-bc0f-d6dbb35408c3",
   "metadata": {},
   "outputs": [],
   "source": [
    "data_dir = \"../data/raw/\"\n",
    "group1_name = \"st01253_tsa1tsa2morgan\"\n",
    "group2_name = \"st01253_by4742swain\""
   ]
  },
  {
   "cell_type": "code",
   "execution_count": null,
   "id": "dd594c22-5e46-4dfa-999d-b6b0a8103158",
   "metadata": {},
   "outputs": [],
   "source": [
    "filepath1 = data_dir + group1_name\n",
    "timeseries1_filepath = filepath1 + \"_timeseries.csv\"\n",
    "labels1_filepath = filepath1 + \"_labels.csv\"\n",
    "\n",
    "timeseries1_df = pd.read_csv(timeseries1_filepath, index_col=[0,1,2])\n",
    "labels1_df = pd.read_csv(labels1_filepath, index_col=[0,1,2])\n",
    "\n",
    "\n",
    "filepath2 = data_dir + group2_name\n",
    "timeseries2_filepath = filepath2 + \"_timeseries.csv\"\n",
    "labels2_filepath = filepath2 + \"_labels.csv\"\n",
    "\n",
    "timeseries2_df = pd.read_csv(timeseries2_filepath, index_col=[0,1,2])\n",
    "labels2_df = pd.read_csv(labels2_filepath, index_col=[0,1,2])"
   ]
  },
  {
   "cell_type": "markdown",
   "id": "288dbc7b-91c0-451e-b1f6-98ce2a3e9c5c",
   "metadata": {},
   "source": [
    "Join dataframes"
   ]
  },
  {
   "cell_type": "code",
   "execution_count": null,
   "id": "5d80fad1-fa09-4435-a441-3efd6068f5c9",
   "metadata": {},
   "outputs": [],
   "source": [
    "timeseries_df = pd.concat([timeseries1_df, timeseries2_df])\n",
    "labels_df = pd.concat([labels1_df, labels2_df])"
   ]
  },
  {
   "cell_type": "code",
   "execution_count": null,
   "id": "b9565b53-5d73-41b9-b40f-3af92f91b969",
   "metadata": {
    "scrolled": true
   },
   "outputs": [],
   "source": [
    "timeseries_df"
   ]
  },
  {
   "cell_type": "code",
   "execution_count": null,
   "id": "b5859a11-4f9d-4528-b3d5-4a724fb97872",
   "metadata": {
    "scrolled": true
   },
   "outputs": [],
   "source": [
    "labels_df"
   ]
  },
  {
   "cell_type": "code",
   "execution_count": null,
   "id": "bf4ff6dd-a26d-4af6-bcf6-2b597a684858",
   "metadata": {},
   "outputs": [],
   "source": [
    "labels_df.to_csv(\"../data/processed/labels_df.csv\")"
   ]
  },
  {
   "cell_type": "markdown",
   "id": "01f788e2-02c1-4fc9-b4ef-1c4e79116573",
   "metadata": {},
   "source": [
    "# Featurise (time series --> catch22)"
   ]
  },
  {
   "cell_type": "code",
   "execution_count": null,
   "id": "95555e5b-f82b-4fbe-8bb3-984a02087ac9",
   "metadata": {},
   "outputs": [],
   "source": [
    "features_df = catch22.as_function(timeseries_df)"
   ]
  },
  {
   "cell_type": "code",
   "execution_count": null,
   "id": "a35e2be7-ff55-4b0d-8ce3-160a79b8ba79",
   "metadata": {},
   "outputs": [],
   "source": [
    "features_df"
   ]
  },
  {
   "cell_type": "markdown",
   "id": "d7c13476-c8e4-4698-9270-9de28f3f0aa5",
   "metadata": {},
   "source": [
    "# Scale (standardscaler)"
   ]
  },
  {
   "cell_type": "code",
   "execution_count": null,
   "id": "d42b76b3-cc2a-42fb-ac5d-345d0fa2ccf3",
   "metadata": {},
   "outputs": [],
   "source": [
    "features_scaled = standardscaler.as_function(features_df.T).T"
   ]
  },
  {
   "cell_type": "code",
   "execution_count": null,
   "id": "3884e096-ab71-46e1-af1b-bdbeb899f9ce",
   "metadata": {},
   "outputs": [],
   "source": [
    "features_scaled"
   ]
  },
  {
   "cell_type": "code",
   "execution_count": null,
   "id": "4d5bf490-9695-4aae-956f-1ee96be7e6c1",
   "metadata": {},
   "outputs": [],
   "source": [
    "features_scaled.to_csv(\"../data/processed/features_scaled.csv\")"
   ]
  },
  {
   "cell_type": "markdown",
   "id": "ba1f62b6-11ef-43e0-879f-dc71383da196",
   "metadata": {},
   "source": [
    "# UMAP"
   ]
  },
  {
   "cell_type": "markdown",
   "id": "732993f4-fc1b-4c4d-beed-05615be4e491",
   "metadata": {},
   "source": [
    "## Old way"
   ]
  },
  {
   "cell_type": "code",
   "execution_count": null,
   "id": "419ee7c9-0b40-483d-b1be-608b472fee3d",
   "metadata": {},
   "outputs": [],
   "source": [
    "# Bodge: add strain so it plays well with old umapper code\n",
    "features_strain_df = pd.concat({'tsa1tsa2morgan': features_df}, names=['strain'])"
   ]
  },
  {
   "cell_type": "code",
   "execution_count": null,
   "id": "9230a3ab-08f0-4e0a-ba26-8259c1c4df52",
   "metadata": {},
   "outputs": [],
   "source": [
    "fig_umap, ax_umap = plt.subplots(figsize=(6,6))\n",
    "umapper.umap_plot(\n",
    "    data=features_strain_df,\n",
    "    n_neighbors=20,\n",
    "    min_dist=0.5,\n",
    "    n_components=2,\n",
    "    label_index=\"strain\",\n",
    "    ax=ax_umap\n",
    ")"
   ]
  },
  {
   "cell_type": "markdown",
   "id": "1450d450-3b10-4bfd-994a-7f6893d10d00",
   "metadata": {},
   "source": [
    "## Refactor: broken down, for more flexibility"
   ]
  },
  {
   "cell_type": "code",
   "execution_count": null,
   "id": "69269ada-a3e4-40cc-83db-068162d88e81",
   "metadata": {},
   "outputs": [],
   "source": [
    "reducer = umap.UMAP(\n",
    "    n_neighbors=10,\n",
    "    min_dist=0.05,\n",
    "    n_components=2,\n",
    ")"
   ]
  },
  {
   "cell_type": "code",
   "execution_count": null,
   "id": "56525eec-a345-4768-89ba-3fa0eb2c6db4",
   "metadata": {},
   "outputs": [],
   "source": [
    "mapper = reducer.fit(features_scaled)\n",
    "embedding = mapper.embedding_"
   ]
  },
  {
   "cell_type": "markdown",
   "id": "1bc9fa26-ae0a-44c8-913b-59bedc6032f6",
   "metadata": {},
   "source": [
    "Dummy colour scheme"
   ]
  },
  {
   "cell_type": "code",
   "execution_count": null,
   "id": "9d05f898-021b-4aa3-a02c-b0f3c3850161",
   "metadata": {},
   "outputs": [],
   "source": [
    "# Dummy colour scheme\n",
    "test_list = ['foo']*300 + ['bar']*53\n",
    "test_palette_map = {\n",
    "    'foo': 'r',\n",
    "    'bar': 'k',\n",
    "}\n",
    "\n",
    "fig, ax = plt.subplots(figsize=(6,6))\n",
    "sns.scatterplot(\n",
    "    x=embedding[:,0],\n",
    "    y=embedding[:,1],\n",
    "    hue=test_list,\n",
    "    palette=test_palette_map,\n",
    "    ax=ax,\n",
    ")"
   ]
  },
  {
   "cell_type": "markdown",
   "id": "9ea61394-b5dc-4821-9419-dca2125bb11a",
   "metadata": {},
   "source": [
    "Colour dots by strain"
   ]
  },
  {
   "cell_type": "code",
   "execution_count": null,
   "id": "d358498d-48c8-43a2-84e5-8dc4d8fc2e36",
   "metadata": {},
   "outputs": [],
   "source": [
    "position_list = features_scaled.index.get_level_values(\"position\").to_list()\n",
    "strain_list = [position.split(\"_\")[0] for position in position_list]\n",
    "strain_relabel_lookup = {\n",
    "    'tsa1tsa2morgan': 'tsa1Δ tsa2Δ',\n",
    "    'by4742swain': 'BY4742',\n",
    "}\n",
    "strain_list = [strain_relabel_lookup.get(item,item) for item in strain_list]\n",
    "strain_palette_map = {\n",
    "    'tsa1Δ tsa2Δ': 'C0',\n",
    "    'BY4742': 'C1',\n",
    "}\n",
    "\n",
    "fig, ax = plt.subplots(figsize=(6,6))\n",
    "sns.scatterplot(\n",
    "    x=embedding[:,0],\n",
    "    y=embedding[:,1],\n",
    "    hue=strain_list,\n",
    "    palette=strain_palette_map,\n",
    "    ax=ax,\n",
    ")"
   ]
  },
  {
   "cell_type": "markdown",
   "id": "8469e4fa-cf4a-4d5b-8d97-3dd53e34dcac",
   "metadata": {},
   "source": [
    "Colour dots by score"
   ]
  },
  {
   "cell_type": "code",
   "execution_count": null,
   "id": "0b27be56-5391-4721-9bee-c31ca052f42a",
   "metadata": {},
   "outputs": [],
   "source": [
    "common_idx = features_scaled.index.intersection(labels_df.index)\n",
    "scores_list = labels_df.loc[common_idx].score.to_list()\n",
    "scores_relabel_lookup = {\n",
    "    0: 'Oscillatory',\n",
    "    1: 'Non-oscillatory',\n",
    "}\n",
    "scores_list = [scores_relabel_lookup.get(item,item) for item in scores_list]\n",
    "scores_palette_map = {\n",
    "    'Oscillatory': 'C2',\n",
    "    'Non-oscillatory': 'C4',\n",
    "}\n",
    "\n",
    "fig, ax = plt.subplots(figsize=(6,6))\n",
    "sns.scatterplot(\n",
    "    x=embedding[:,0],\n",
    "    y=embedding[:,1],\n",
    "    hue=scores_list,\n",
    "    palette=scores_palette_map,\n",
    "    ax=ax,\n",
    ")"
   ]
  },
  {
   "cell_type": "markdown",
   "id": "69176547-1cb2-4c10-814b-e4726f1242fe",
   "metadata": {},
   "source": [
    "Combining strains and scores"
   ]
  },
  {
   "cell_type": "code",
   "execution_count": null,
   "id": "8a1efd7e-04e0-4df5-8aae-a76990df2a11",
   "metadata": {},
   "outputs": [],
   "source": [
    "label_list = []\n",
    "for strain, score in zip(strain_list, scores_list):\n",
    "    if score == 'Non-oscillatory':\n",
    "        label_list.append(score)\n",
    "    elif score == 'Oscillatory':\n",
    "        label_list.append(strain)\n",
    "\n",
    "label_palette_map = {\n",
    "    'Non-oscillatory': 'lightgrey',\n",
    "    'tsa1Δ tsa2Δ': 'C0',\n",
    "    'BY4742': 'C1',\n",
    "}\n",
    "\n",
    "fig, ax = plt.subplots(figsize=(6,6))\n",
    "sns.scatterplot(\n",
    "    x=embedding[:,0],\n",
    "    y=embedding[:,1],\n",
    "    hue=label_list,\n",
    "    palette=label_palette_map,\n",
    "    ax=ax,\n",
    ")"
   ]
  },
  {
   "cell_type": "markdown",
   "id": "22b36177-9a33-48f9-b921-e9c05c22924f",
   "metadata": {},
   "source": [
    "# Graph-based clustering"
   ]
  },
  {
   "cell_type": "markdown",
   "id": "8af9b4cd-e6e5-4cb1-ad7e-8fac56da2fab",
   "metadata": {},
   "source": [
    "Distance matrix"
   ]
  },
  {
   "cell_type": "code",
   "execution_count": null,
   "id": "42b26eec-6a05-4fea-adcc-83677b0aa50c",
   "metadata": {},
   "outputs": [],
   "source": [
    "features_scaled"
   ]
  },
  {
   "cell_type": "code",
   "execution_count": null,
   "id": "8ab3d5d2-bd08-44cc-80ee-57e2f03d2720",
   "metadata": {},
   "outputs": [],
   "source": [
    "# Old: sklearn doesn't produce a symmetric distance matrix\n",
    "from sklearn.metrics.pairwise import euclidean_distances\n",
    "distance_matrix = euclidean_distances(features_scaled)"
   ]
  },
  {
   "cell_type": "code",
   "execution_count": null,
   "id": "78d0b921-a58e-467f-ae8d-6a40e650d6fe",
   "metadata": {},
   "outputs": [],
   "source": [
    "# New: scipy produces a symmetric distance matrix and offers more flexibility\n",
    "from scipy.spatial.distance import pdist, squareform\n",
    "distances = pdist(features_scaled, metric=\"euclidean\")\n",
    "distance_matrix = squareform(distances)"
   ]
  },
  {
   "cell_type": "markdown",
   "id": "74624939-4465-4076-ae55-3c0876c74089",
   "metadata": {},
   "source": [
    "Prune"
   ]
  },
  {
   "cell_type": "code",
   "execution_count": null,
   "id": "cb3fdc8f-6186-437c-908c-3d201dfe48ea",
   "metadata": {},
   "outputs": [],
   "source": [
    "from src.utils.utils import graph_prune"
   ]
  },
  {
   "cell_type": "code",
   "execution_count": null,
   "id": "14f9a128-0ad2-4f08-88fd-6c0b4bfdac93",
   "metadata": {},
   "outputs": [],
   "source": [
    "distance_matrix_pruned = graph_prune(distance_matrix, 7)"
   ]
  },
  {
   "cell_type": "code",
   "execution_count": null,
   "id": "d6f7ab59-ce95-4b0e-81c1-49b484945949",
   "metadata": {},
   "outputs": [],
   "source": [
    "np.array_equal(distance_matrix_pruned, distance_matrix_pruned.T)"
   ]
  },
  {
   "cell_type": "markdown",
   "id": "48bfc7d1-ec3e-4258-a83e-bb8e427ad4f0",
   "metadata": {},
   "source": [
    "Graph"
   ]
  },
  {
   "cell_type": "code",
   "execution_count": null,
   "id": "a493acba-8c36-4616-9f2f-ff5f50a07e3c",
   "metadata": {},
   "outputs": [],
   "source": [
    "import igraph as ig"
   ]
  },
  {
   "cell_type": "code",
   "execution_count": null,
   "id": "0e199002-2c33-4f8a-9a28-34ef8b0e7e02",
   "metadata": {},
   "outputs": [],
   "source": [
    "graph = ig.Graph.Weighted_Adjacency(distance_matrix_pruned.tolist(), mode=\"undirected\")"
   ]
  },
  {
   "cell_type": "markdown",
   "id": "b660b658-de39-46f5-bb65-b369cf2fdca4",
   "metadata": {},
   "source": [
    "Draw"
   ]
  },
  {
   "cell_type": "code",
   "execution_count": null,
   "id": "cf5160d3-d994-44f1-97da-4c14353ff046",
   "metadata": {},
   "outputs": [],
   "source": [
    "fig, ax = plt.subplots()\n",
    "ig.plot(graph, target=ax)"
   ]
  }
 ],
 "metadata": {
  "kernelspec": {
   "display_name": "tschar",
   "language": "python",
   "name": "tschar"
  },
  "language_info": {
   "codemirror_mode": {
    "name": "ipython",
    "version": 3
   },
   "file_extension": ".py",
   "mimetype": "text/x-python",
   "name": "python",
   "nbconvert_exporter": "python",
   "pygments_lexer": "ipython3",
   "version": "3.8.14"
  }
 },
 "nbformat": 4,
 "nbformat_minor": 5
}
