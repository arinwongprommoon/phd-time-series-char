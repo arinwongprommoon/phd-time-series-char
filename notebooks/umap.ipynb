{
 "cells": [
  {
   "cell_type": "code",
   "execution_count": null,
   "id": "8469a2d8-025a-4aec-9468-9bc5896e0f7f",
   "metadata": {},
   "outputs": [],
   "source": [
    "import os\n",
    "import sys\n",
    "module_path = os.path.abspath(os.path.join('..'))\n",
    "if module_path not in sys.path:\n",
    "    sys.path.append(module_path)\n",
    "    \n",
    "%reload_ext autoreload\n",
    "%autoreload 2\n",
    "%matplotlib inline"
   ]
  },
  {
   "cell_type": "markdown",
   "id": "19275469-9d07-45d0-8f5a-5d0cc97642c6",
   "metadata": {},
   "source": [
    "Imports"
   ]
  },
  {
   "cell_type": "code",
   "execution_count": null,
   "id": "9c07b76f-1e59-4195-8ec2-c3ca850b9855",
   "metadata": {},
   "outputs": [],
   "source": [
    "import matplotlib.pyplot as plt\n",
    "import pandas as pd"
   ]
  },
  {
   "cell_type": "code",
   "execution_count": null,
   "id": "4c0b9016-1b45-47c4-bdea-b165bb5e0b49",
   "metadata": {},
   "outputs": [],
   "source": [
    "from src.umapper import umapper"
   ]
  },
  {
   "cell_type": "markdown",
   "id": "8b2c123c-a2fa-44e9-83f6-b6702774f75e",
   "metadata": {},
   "source": [
    "Load data"
   ]
  },
  {
   "cell_type": "code",
   "execution_count": null,
   "id": "d8796f82-118a-4ce9-bc0f-d6dbb35408c3",
   "metadata": {},
   "outputs": [],
   "source": [
    "data_dir = \"../data/raw/\"\n",
    "groupname = \"is20016_by4741\""
   ]
  },
  {
   "cell_type": "code",
   "execution_count": null,
   "id": "dd594c22-5e46-4dfa-999d-b6b0a8103158",
   "metadata": {},
   "outputs": [],
   "source": [
    "filepath = data_dir + groupname\n",
    "timeseries_filepath = filepath + \"_timeseries.csv\"\n",
    "labels_filepath = filepath + \"_labels.csv\"\n",
    "\n",
    "timeseries_df = pd.read_csv(timeseries_filepath, index_col=[0,1,2])\n",
    "labels_df = pd.read_csv(labels_filepath, index_col=[0,1,2])"
   ]
  },
  {
   "cell_type": "code",
   "execution_count": null,
   "id": "b9565b53-5d73-41b9-b40f-3af92f91b969",
   "metadata": {},
   "outputs": [],
   "source": [
    "timeseries_df"
   ]
  },
  {
   "cell_type": "code",
   "execution_count": null,
   "id": "b5859a11-4f9d-4528-b3d5-4a724fb97872",
   "metadata": {},
   "outputs": [],
   "source": [
    "labels_df"
   ]
  }
 ],
 "metadata": {
  "kernelspec": {
   "display_name": "tschar",
   "language": "python",
   "name": "tschar"
  },
  "language_info": {
   "codemirror_mode": {
    "name": "ipython",
    "version": 3
   },
   "file_extension": ".py",
   "mimetype": "text/x-python",
   "name": "python",
   "nbconvert_exporter": "python",
   "pygments_lexer": "ipython3",
   "version": "3.8.14"
  }
 },
 "nbformat": 4,
 "nbformat_minor": 5
}
