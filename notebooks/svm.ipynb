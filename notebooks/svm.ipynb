{
 "cells": [
  {
   "cell_type": "code",
   "execution_count": null,
   "id": "8469a2d8-025a-4aec-9468-9bc5896e0f7f",
   "metadata": {},
   "outputs": [],
   "source": [
    "import os\n",
    "import sys\n",
    "module_path = os.path.abspath(os.path.join('..'))\n",
    "if module_path not in sys.path:\n",
    "    sys.path.append(module_path)\n",
    "    \n",
    "%reload_ext autoreload\n",
    "%autoreload 2\n",
    "%matplotlib inline"
   ]
  },
  {
   "cell_type": "markdown",
   "id": "19275469-9d07-45d0-8f5a-5d0cc97642c6",
   "metadata": {},
   "source": [
    "Imports"
   ]
  },
  {
   "cell_type": "code",
   "execution_count": null,
   "id": "9c07b76f-1e59-4195-8ec2-c3ca850b9855",
   "metadata": {},
   "outputs": [],
   "source": [
    "import matplotlib.pyplot as plt\n",
    "import numpy as np\n",
    "import pandas as pd\n",
    "import seaborn as sns\n",
    "\n",
    "from src.ml.transformers import Catch22Transformer\n",
    "from src.ml.predict import get_predictions, get_predictproba\n",
    "from src.ml.metrics import StratifiedKFoldHandler\n",
    "\n",
    "from sklearn.ensemble import RandomForestClassifier\n",
    "from sklearn.feature_selection import RFECV\n",
    "from sklearn.model_selection import StratifiedKFold, train_test_split\n",
    "from sklearn.metrics import precision_score, recall_score, roc_curve, auc, roc_auc_score\n",
    "from sklearn.pipeline import Pipeline\n",
    "from sklearn.preprocessing import StandardScaler\n",
    "from sklearn.svm import SVC"
   ]
  },
  {
   "cell_type": "markdown",
   "id": "8b2c123c-a2fa-44e9-83f6-b6702774f75e",
   "metadata": {},
   "source": [
    "# Load data"
   ]
  },
  {
   "cell_type": "code",
   "execution_count": null,
   "id": "d8796f82-118a-4ce9-bc0f-d6dbb35408c3",
   "metadata": {},
   "outputs": [],
   "source": [
    "data_dir = \"../data/raw/\"\n",
    "group1_name = \"is20016_zwf1egf\""
   ]
  },
  {
   "cell_type": "code",
   "execution_count": null,
   "id": "dd594c22-5e46-4dfa-999d-b6b0a8103158",
   "metadata": {},
   "outputs": [],
   "source": [
    "filepath1 = data_dir + group1_name\n",
    "timeseries1_filepath = filepath1 + \"_timeseries.csv\"\n",
    "labels1_filepath = filepath1 + \"_labels.csv\"\n",
    "\n",
    "timeseries_df = pd.read_csv(timeseries1_filepath, index_col=[0,1,2])\n",
    "labels_df = pd.read_csv(labels1_filepath, index_col=[0,1,2])"
   ]
  },
  {
   "cell_type": "code",
   "execution_count": null,
   "id": "0c37aad5-5ff0-4a57-9a87-bba2d6cf2736",
   "metadata": {},
   "outputs": [],
   "source": [
    "timeseries_df"
   ]
  },
  {
   "cell_type": "code",
   "execution_count": null,
   "id": "bbe8ea58-ba51-46ce-b270-6573d2d491b5",
   "metadata": {},
   "outputs": [],
   "source": [
    "timeseries_dropna = timeseries_df.dropna()\n",
    "len(timeseries_dropna)"
   ]
  },
  {
   "cell_type": "code",
   "execution_count": null,
   "id": "602fda1c-4d66-47bf-951b-8c427c9e7d45",
   "metadata": {},
   "outputs": [],
   "source": [
    "labels_df"
   ]
  },
  {
   "cell_type": "markdown",
   "id": "bf85f314-8a2b-4d55-a7ef-81042a310e33",
   "metadata": {},
   "source": [
    "# Construct pipeline"
   ]
  },
  {
   "cell_type": "code",
   "execution_count": null,
   "id": "9692c7cc-1d8a-468e-be89-20aa7462b36d",
   "metadata": {},
   "outputs": [],
   "source": [
    "np.logspace(-3, 3, 3)"
   ]
  },
  {
   "cell_type": "code",
   "execution_count": null,
   "id": "80d4afc8-be46-4874-9e90-a0047634ad9a",
   "metadata": {},
   "outputs": [],
   "source": [
    "binary_pipeline = Pipeline(\n",
    "    [\n",
    "        (\"featurise\", Catch22Transformer()),\n",
    "        (\"scaler\", StandardScaler()),\n",
    "        (\"classifier\", SVC(\n",
    "            C=10.0,\n",
    "            gamma='auto',\n",
    "            probability=True,\n",
    "        )),\n",
    "    ]\n",
    ")"
   ]
  },
  {
   "cell_type": "markdown",
   "id": "e4a62245-c808-49bd-aa4e-6f60932704ea",
   "metadata": {},
   "source": [
    "# Manipulate data variables to create data and target matrices"
   ]
  },
  {
   "cell_type": "code",
   "execution_count": null,
   "id": "27ce3c03-5bcb-40d0-85b3-f8203d03190c",
   "metadata": {},
   "outputs": [],
   "source": [
    "features = timeseries_dropna"
   ]
  },
  {
   "cell_type": "code",
   "execution_count": null,
   "id": "7dff3efd-13a2-4bcc-995f-5681df4998ac",
   "metadata": {},
   "outputs": [],
   "source": [
    "targets = labels_df.loc[features.index]"
   ]
  },
  {
   "cell_type": "code",
   "execution_count": null,
   "id": "f7fd5407-f46c-4fb7-a6f9-7107168350f0",
   "metadata": {},
   "outputs": [],
   "source": [
    "# Proportion of label '1', to get an idea of class imbalance\n",
    "np.sum(targets.score)/len(targets)"
   ]
  },
  {
   "cell_type": "markdown",
   "id": "f695ff29-0cd7-4bfc-9942-4f609965e369",
   "metadata": {},
   "source": [
    "# Train-test split"
   ]
  },
  {
   "cell_type": "code",
   "execution_count": null,
   "id": "21482b64-e5e8-4639-913f-9b60a2c885e1",
   "metadata": {},
   "outputs": [],
   "source": [
    "train_size = 0.75\n",
    "features_train, features_test, targets_train, targets_test = train_test_split(\n",
    "    features,\n",
    "    targets,\n",
    "    train_size=train_size,\n",
    "    random_state=69,\n",
    ")"
   ]
  },
  {
   "cell_type": "markdown",
   "id": "9ad1b9b5-59f9-4798-9a4b-f077291cf648",
   "metadata": {},
   "source": [
    "# Predict and get results"
   ]
  },
  {
   "cell_type": "code",
   "execution_count": null,
   "id": "8d33efc2-f0ff-441d-843f-4bf4c8185d8c",
   "metadata": {},
   "outputs": [],
   "source": [
    "binary_pipeline.fit(features_train, targets_train.to_numpy().ravel())"
   ]
  },
  {
   "cell_type": "markdown",
   "id": "9bb9fe1f-92a7-4ba1-9034-82b440cae174",
   "metadata": {},
   "source": [
    "## Binary classifier"
   ]
  },
  {
   "cell_type": "code",
   "execution_count": null,
   "id": "42166360-72b6-4d20-b276-b4f2f5b70803",
   "metadata": {},
   "outputs": [],
   "source": [
    "true_targets = targets_test.to_numpy().ravel()\n",
    "true_targets"
   ]
  },
  {
   "cell_type": "code",
   "execution_count": null,
   "id": "767323bf-65c2-496f-a5f9-4826247af21f",
   "metadata": {},
   "outputs": [],
   "source": [
    "predictions_dict = get_predictions(\n",
    "    binary_pipeline, features_test, pd.unique(targets.score)\n",
    ")"
   ]
  },
  {
   "cell_type": "code",
   "execution_count": null,
   "id": "2bf2db5d-d806-47f3-8229-4673cd724aa4",
   "metadata": {},
   "outputs": [],
   "source": [
    "predictions_dict"
   ]
  },
  {
   "cell_type": "code",
   "execution_count": null,
   "id": "111c865c-78fa-4b28-a50f-efc46fd6ab00",
   "metadata": {},
   "outputs": [],
   "source": [
    "predicted_targets = binary_pipeline.predict(features_test)"
   ]
  },
  {
   "cell_type": "code",
   "execution_count": null,
   "id": "c3da0ca1-343c-400d-9fd9-c35ccfe4c6b3",
   "metadata": {},
   "outputs": [],
   "source": [
    "predicted_targets"
   ]
  },
  {
   "cell_type": "markdown",
   "id": "1acd0773-a231-4f77-90c7-b8cf35cf4cb9",
   "metadata": {},
   "source": [
    "### Precision-recall"
   ]
  },
  {
   "cell_type": "code",
   "execution_count": null,
   "id": "5c880cb7-1199-450e-9ae7-75192f32ea32",
   "metadata": {},
   "outputs": [],
   "source": [
    "precision = precision_score(true_targets, predicted_targets)\n",
    "print(precision)\n",
    "recall = recall_score(true_targets, predicted_targets)\n",
    "print(recall)"
   ]
  },
  {
   "cell_type": "code",
   "execution_count": null,
   "id": "87350105-1451-4fb3-a44f-72a2cf6570a7",
   "metadata": {},
   "outputs": [],
   "source": [
    "binary_pipeline.decision_function(features_test)"
   ]
  },
  {
   "cell_type": "code",
   "execution_count": null,
   "id": "07e50975-a0db-4318-874c-63026f891780",
   "metadata": {},
   "outputs": [],
   "source": [
    "from sklearn.metrics import PrecisionRecallDisplay\n",
    "\n",
    "y_score = binary_pipeline.decision_function(features_test)\n",
    "y_test = true_targets\n",
    "\n",
    "display = PrecisionRecallDisplay.from_predictions(\n",
    "    y_test, y_score, name=\"LinearSVC\", plot_chance_level=True\n",
    ")\n",
    "_ = display.ax_.set_title(\"2-class Precision-Recall curve\")"
   ]
  },
  {
   "cell_type": "markdown",
   "id": "31dab2bf-3ca2-4cd0-b7d8-a084248a29a9",
   "metadata": {},
   "source": [
    "### k-fold cross-validation"
   ]
  },
  {
   "cell_type": "code",
   "execution_count": null,
   "id": "5e493c59-e013-47d8-ab51-f30be2922f3d",
   "metadata": {},
   "outputs": [],
   "source": [
    "n_splits = 5"
   ]
  },
  {
   "cell_type": "code",
   "execution_count": null,
   "id": "5eb25a0a-adf2-42a0-973b-672219d0d87b",
   "metadata": {
    "scrolled": true
   },
   "outputs": [],
   "source": [
    "kfold = StratifiedKFoldHandler(binary_pipeline, features, targets, n_splits)"
   ]
  },
  {
   "cell_type": "code",
   "execution_count": null,
   "id": "85905774-72a0-41b0-a6ab-281b19b0e88c",
   "metadata": {},
   "outputs": [],
   "source": [
    "kfold.kf_scores"
   ]
  },
  {
   "cell_type": "code",
   "execution_count": null,
   "id": "c0365747-3e71-46c4-9599-c4573f5cf156",
   "metadata": {},
   "outputs": [],
   "source": [
    "kfold.pretty_print()"
   ]
  },
  {
   "cell_type": "code",
   "execution_count": null,
   "id": "01c6c0e1-3831-4397-9bfe-55ccf7fdbf6e",
   "metadata": {},
   "outputs": [],
   "source": [
    "fig, ax = plt.subplots()\n",
    "kfold.barplot(ax)\n",
    "ax.set_ylim((0,1))"
   ]
  },
  {
   "cell_type": "markdown",
   "id": "e52f745c-f717-4e99-b787-f1f2a7a3084d",
   "metadata": {},
   "source": [
    "## Probability\n",
    "\n",
    "(Note: Results may differ from `predict`, according to `scikit-learn` documentation)"
   ]
  },
  {
   "cell_type": "code",
   "execution_count": null,
   "id": "79a40ae0-b1a0-43f9-9e2a-b2d378ffb84a",
   "metadata": {},
   "outputs": [],
   "source": [
    "predictproba_df = get_predictproba(\n",
    "    binary_pipeline, features_test\n",
    ")"
   ]
  },
  {
   "cell_type": "code",
   "execution_count": null,
   "id": "be228e15-0a3d-49dc-816d-45f201b799b0",
   "metadata": {},
   "outputs": [],
   "source": [
    "predictproba_df.sort_values(by=1)"
   ]
  },
  {
   "cell_type": "code",
   "execution_count": null,
   "id": "dbc7e77e-248f-45c3-ad6a-51650c8f2058",
   "metadata": {},
   "outputs": [],
   "source": [
    "fig, ax = plt.subplots()\n",
    "sns.histplot(\n",
    "    predictproba_df,\n",
    "    x=1,\n",
    "    binwidth=0.05,\n",
    "    ax=ax,\n",
    ")\n",
    "ax.set_xlim((-0.05, 1.05))\n",
    "ax.set_xlabel(\"Probability of oscillation\")"
   ]
  }
 ],
 "metadata": {
  "kernelspec": {
   "display_name": "tschar",
   "language": "python",
   "name": "tschar"
  },
  "language_info": {
   "codemirror_mode": {
    "name": "ipython",
    "version": 3
   },
   "file_extension": ".py",
   "mimetype": "text/x-python",
   "name": "python",
   "nbconvert_exporter": "python",
   "pygments_lexer": "ipython3",
   "version": "3.8.14"
  }
 },
 "nbformat": 4,
 "nbformat_minor": 5
}
